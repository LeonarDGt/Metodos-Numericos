{
 "cells": [
  {
   "cell_type": "code",
   "execution_count": 1,
   "metadata": {
    "collapsed": false
   },
   "outputs": [
    {
     "name": "stdout",
     "output_type": "stream",
     "text": [
      "   Valor X     Valor Y\n",
      "\n",
      "         4 |        3.0\n"
     ]
    },
    {
     "data": {
      "image/png": "[encoded data removed]",
      "text/plain": [
       "<matplotlib.figure.Figure at 0x1a9d2befdd8>"
      ]
     },
     "metadata": {},
     "output_type": "display_data"
    }
   ],
   "source": [
    "import math\n",
    "import matplotlib.pyplot as L\n",
    "%matplotlib inline\n",
    "\n",
    "X=[]\n",
    "Y1=[]\n",
    "Y2=[]\n",
    "print (\"{0:10}  {1:10}\".format(\"   Valor X\",\"   Valor Y\\n\"));\n",
    "for x1 in range(1,7,1):\n",
    "\n",
    "    Xdos= -(3/2*x1)+9\n",
    "    Xdos2= (1/2*x1)+1\n",
    "    X.append(x1)\n",
    "    Y1.append(Xdos)\n",
    "    Y2.append(Xdos2)\n",
    "    if Xdos==Xdos2:\n",
    "        print (\"{0:10} | {1:10}\".format(x1,Xdos));\n",
    "    \n",
    "L.plot(X,Y1,'b',linewidth=2,label='3X+2Y=18')\n",
    "L.plot(X,Y2,'g',linewidth=2,label='-X+2Y=2')\n",
    "L.legend(loc = 'lower right')\n",
    "L.xlabel('X2')\n",
    "L.xlabel('X1')\n",
    "L.title('Grafica Ecuacion')\n",
    "L.grid(True)\n",
    "L.show()\n",
    "    \n",
    "\n",
    "\n",
    "\n"
   ]
  }
 ],
 "metadata": {
  "kernelspec": {
   "display_name": "Python 3",
   "language": "python",
   "name": "python3"
  },
  "language_info": {
   "codemirror_mode": {
    "name": "ipython",
    "version": 3
   },
   "file_extension": ".py",
   "mimetype": "text/x-python",
   "name": "python",
   "nbconvert_exporter": "python",
   "pygments_lexer": "ipython3",
   "version": "3.5.1"
  }
 },
 "nbformat": 4,
 "nbformat_minor": 0
}
