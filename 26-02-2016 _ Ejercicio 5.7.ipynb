{
 "cells": [
  {
   "cell_type": "code",
   "execution_count": 13,
   "metadata": {
    "collapsed": false
   },
   "outputs": [
    {
     "name": "stdout",
     "output_type": "stream",
     "text": [
      "Metodo analitico raiz:  2.66667\n"
     ]
    },
    {
     "data": {
      "image/png": "[encoded data removed]",
      "text/plain": [
       "<matplotlib.figure.Figure at 0x1c4b8d8bd68>"
      ]
     },
     "metadata": {},
     "output_type": "display_data"
    },
    {
     "name": "stdout",
     "output_type": "stream",
     "text": [
      "Método Bisección\n",
      "\n",
      "    Iteracion            xl               xu               xr                Ea(%)            Et(%)\n",
      "\n",
      "              1 |             1.0 |             3.0 |             2.0 |           100.0 |         33.3335 |\n",
      "              2 |             2.0 |             3.0 |             2.5 |            20.0 |          6.6668 |\n",
      "              3 |             2.5 |             3.0 |            2.75 |  9.090909090909 |  3.030181818182 |\n",
      "\n",
      "Falsa posición\n",
      "\n",
      "    Iteracion            xl               xu               xr                Ea(%)            Et(%)\n",
      "\n",
      "              1 |             1.0 |             3.0 |           2.875 |           100.0 |  7.246260869565 |\n",
      "              2 |           2.875 |             3.0 |        2.640625 |   8.87573964497 |  0.986319526627 |\n",
      "              3 |        2.640625 |             3.0 |     2.669921875 |  1.097293343087 |  0.121796634967 |\n"
     ]
    }
   ],
   "source": [
    "import math\n",
    "import matplotlib.pyplot as L\n",
    "%matplotlib inline\n",
    "i=-3\n",
    "\n",
    "verd=2.66667\n",
    "X,Y=[],[]\n",
    "def funcion(x):\n",
    "    valor=(0.8-0.3*x)/x\n",
    "    return valor\n",
    "\n",
    "print (\"Metodo analitico raiz: \",str(verd))\n",
    "while 1:\n",
    "    if(i==0):\n",
    "        X.append(-0.1)\n",
    "        Y.append(-9)\n",
    "        X.append(0.1)\n",
    "        Y.append(9)\n",
    "        \n",
    "    else:\n",
    "        X.append(i)\n",
    "        Y.append(funcion(i))\n",
    "    i=i+1\n",
    "    if(i==4):\n",
    "        break\n",
    "    \n",
    "L.axis([-3,3,-5,5])\n",
    "L.plot(X,Y)\n",
    "L.hold(True)\n",
    "L.grid(True)\n",
    "L.title(\"Metodo Grafico\")\n",
    "L.xlabel(\"Tiempo\")\n",
    "L.ylabel(\"Velocidad\")\n",
    "L.show()\n",
    "\n",
    "xl,xu,xr,fxl,fxr,xrant,i=1.0,3.0,0.0,1.0,1.0,0.0,1\n",
    "print (\"Método Bisección\\n\")\n",
    "print(\"{0:15}  {1:15}  {2:15}  {3:15}  {4:15}  {5:15}\".format(\"    Iteracion\", \"        xl\", \"        xu\",\"        xr\",\"         Ea(%)\",\"         Et(%)\\n\"))\n",
    "for i in range(1,4):\n",
    "    xrant=xr\n",
    "    xr=(xl+xu)/2\n",
    "    fxl=funcion(xl)\n",
    "    fxr=funcion(xr)\n",
    "    ea=math.fabs((xr-xrant)/xr)*100\n",
    "    et=math.fabs((verd-xr)/xr)*100\n",
    "    print(\"{0:15} | {1:15} | {2:15} | {3:15} | {4:15} | {5:15} |\".format(i,xl,xu,xr,round(ea,12),round(et,12)));\n",
    "    if((fxl*fxr)<0):\n",
    "        xu=xr\n",
    "    if((fxl*fxr)>0):\n",
    "        xl=xr\n",
    "\n",
    "xl,xu,xr,fxl,fxr,xrant,i=1.0,3.0,0.0,1.0,1.0,0.0,1\n",
    "print (\"\\nFalsa posición\\n\")\n",
    "print(\"{0:15}  {1:15}  {2:15}  {3:15}  {4:15}  {5:15}\".format(\"    Iteracion\", \"        xl\", \"        xu\",\"        xr\",\"         Ea(%)\",\"         Et(%)\\n\"))\n",
    "for i in range(1,4):\n",
    "    xrant=xr\n",
    "    xr=xu-(funcion(xu)*(xl-xu))/(funcion(xl)-funcion(xu))\n",
    "    ea=math.fabs((xr-xrant)/xr)*100\n",
    "    et=math.fabs((verd-xr)/xr)*100\n",
    "    print(\"{0:15} | {1:15} | {2:15} | {3:15} | {4:15} | {5:15} |\".format(i,round(xl,12),xu,round(xr,12),round(ea,12),round(et,12)));\n",
    "    if((fxl*fxr)<0):\n",
    "        xu=xr\n",
    "    if((fxl*fxr)>0):\n",
    "        xl=xr"
   ]
  }
 ],
 "metadata": {
  "kernelspec": {
   "display_name": "Python 3",
   "language": "python",
   "name": "python3"
  },
  "language_info": {
   "codemirror_mode": {
    "name": "ipython",
    "version": 3
   },
   "file_extension": ".py",
   "mimetype": "text/x-python",
   "name": "python",
   "nbconvert_exporter": "python",
   "pygments_lexer": "ipython3",
   "version": "3.5.1"
  }
 },
 "nbformat": 4,
 "nbformat_minor": 0
}
