{
 "cells": [
  {
   "cell_type": "code",
   "execution_count": 12,
   "metadata": {
    "collapsed": false
   },
   "outputs": [
    {
     "name": "stdout",
     "output_type": "stream",
     "text": [
      "                |    Iteracion    |        X1       |        X2        |        Xr       |        Ea       |        Et      \n",
      "      ---       |               5 |               5 |              10  |             7.5 |               0 |         85.4017\n",
      "      +++       |               6 |               5 |             7.5  |            6.25 |           -20.0 |         102.482\n",
      "      ---       |               7 |            6.25 |             7.5  |           6.875 |          9.0909 |         93.1655\n",
      "      ---       |               8 |            6.25 |           6.875  |          6.5625 |         -4.7619 |         97.6019\n",
      "      ---       |               9 |            6.25 |          6.5625  |          6.4062 |          -2.439 |         99.9824\n"
     ]
    },
    {
     "data": {
      "image/png": "[encoded data removed]",
      "text/plain": [
       "<matplotlib.figure.Figure at 0x1b521e48128>"
      ]
     },
     "metadata": {},
     "output_type": "display_data"
    },
    {
     "name": "stdout",
     "output_type": "stream",
     "text": [
      "Raiz menor:  -1.405124837953327       \n",
      "Raiz mayor:  6.405124837953327\n"
     ]
    }
   ],
   "source": [
    "import math\n",
    "import matplotlib.pyplot as L\n",
    "%matplotlib inline\n",
    "\n",
    "c=4.5\n",
    "b=2.5\n",
    "a=-0.5\n",
    "cx1=0\n",
    "cx2=0\n",
    "fc=0\n",
    "xrb=0\n",
    "x1b=5\n",
    "x2b=10  \n",
    "i=5\n",
    "fx=0\n",
    "ft=0\n",
    "x=[]\n",
    "y=[]\n",
    "k=[]\n",
    "l=[1,0,-1]\n",
    "fu=0\n",
    "Ev=0\n",
    "Ev1=0\n",
    "Et=0\n",
    "Ea=0\n",
    "e2=0\n",
    "e1=0\n",
    "l=[1,0,-1]\n",
    "\n",
    "print (\"{0:15} | {1:15} | {2:15} | {3:15}  | {4:15} | {5:15} | {6:15}\".format(\"\",\"   Iteracion\",\"       X1\",\"       X2\",\"       Xr\",\"       Ea\",\"       Et\"));\n",
    "        \n",
    "\n",
    "while True:      \n",
    "    e2=e1\n",
    "    xrb=(x1b+x2b)/2\n",
    "    fc=x1b**2+(2.5/-0.5)*x1b+(4.5/-0.5)\n",
    "    fx=xrb**2+(2.5/-0.5)*xrb+(4.5/-0.5)\n",
    "    fu=i**2+(2.5/-0.5)*i+(4.5/-0.5)\n",
    "    ft=fc*fx\n",
    "    e1=xrb\n",
    "        #print(\"Error verdadero\");\n",
    "    Ev=6.40512484\n",
    "    Ev1=-1.4\n",
    "    Et=(Ev/xrb)*100\n",
    "        #print(\"Error aproximado\");\n",
    "    if e2==0:\n",
    "        Ea=0\n",
    "    else:\n",
    "        Ea=((xrb-e2)/xrb)*100    \n",
    "    if ft>0:\n",
    "        print (\"{0:15} | {1:15} | {2:15} | {3:15}  | {4:15} | {5:15} | {6:15}\".format(\"      +++\",(i),x1b,round(x2b,4),round(xrb,4),round(Ea,4),round(Et,4)));\n",
    "        x1b=xrb\n",
    "    elif ft<0:\n",
    "        print (\"{0:15} | {1:15} | {2:15} | {3:15}  | {4:15} | {5:15} | {6:15}\".format(\"      ---\",(i),x1b,round(x2b,4),round(xrb,4),round(Ea,4),round(Et,4)));\n",
    "        x2b=xrb\n",
    "    elif ft==0:\n",
    "        print (\"{0:15} | {1:15} | {2:15} | {3:15}  | {4:15} | {5:15} | {6:15}\".format(\"      ===\",(i),x1b,round(x2b,4),round(xrb,4),round(Ea,4),round(Et,4)));\n",
    "        break\n",
    "        \n",
    "    if i>8:\n",
    "        break   \n",
    "    x.append(i)\n",
    "    y.append(fu)\n",
    "    i=i+1\n",
    "    \n",
    "xl=[Ev,Ev,Ev]\n",
    "\n",
    "xl1=[Ev1,Ev1,Ev1]\n",
    "L.plot(xl,l,'k',linewidth=2,label='xr raiz 1')\n",
    "L.hold(True)\n",
    "L.grid(True)\n",
    "L.plot(x,y,'r',linewidth=2,label='analitico')\n",
    "L.legend(loc = 2)\n",
    "L.show()\n",
    "cx1=(-b+(math.sqrt((b**2)-(4*a*c))))/(2*a)\n",
    "cx2=(-b-(math.sqrt((b**2)-(4*a*c))))/(2*a)\n",
    "print(\"Raiz menor: \",cx1,\"      \\nRaiz mayor: \",cx2);"
   ]
  }
 ],
 "metadata": {
  "kernelspec": {
   "display_name": "Python 3",
   "language": "python",
   "name": "python3"
  },
  "language_info": {
   "codemirror_mode": {
    "name": "ipython",
    "version": 3
   },
   "file_extension": ".py",
   "mimetype": "text/x-python",
   "name": "python",
   "nbconvert_exporter": "python",
   "pygments_lexer": "ipython3",
   "version": "3.5.1"
  }
 },
 "nbformat": 4,
 "nbformat_minor": 0
}
