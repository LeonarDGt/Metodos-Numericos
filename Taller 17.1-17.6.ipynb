{
 "cells": [
  {
   "cell_type": "code",
   "execution_count": 1,
   "metadata": {
    "collapsed": false
   },
   "outputs": [
    {
     "name": "stdout",
     "output_type": "stream",
     "text": [
      "media 9.652000000000001\n",
      "varianza 0.4744959999999997\n",
      "desviaion estandar 0.6888367005321361\n",
      "coeficioente de variacion 0.07136725036594861\n"
     ]
    }
   ],
   "source": [
    "#a) la media, b) la desviación estándar, c) la varianza, d)coeficiente de variacion\n",
    "import numpy as np\n",
    "import math\n",
    "valor=([8.8, 9.5, 9.8, 9.4, 10.0, 9.4, 10.1, 9.2, 11.3, 9.4, 10.0, 10.4, 7.9 ,10.4 ,9.8 ,9.8 ,9.5, 8.9, 8.8, 10.6, 10.1, 9.5, 9.6, 10.2, 8.9])\n",
    "cv=0\n",
    "sumatoria=0;\n",
    "media=0;\n",
    "varianza=0;\n",
    "deviacion=0;\n",
    "\n",
    "for i in range (25):\n",
    "    sumatoria=sumatoria+valor[i]\n",
    "media=sumatoria/25\n",
    "\n",
    "for j in range(25):\n",
    "    rango=0;\n",
    "    rango=math.pow(valor[j]-media,2)\n",
    "\n",
    "    varianza=varianza+rango\n",
    "\n",
    "varianza=varianza/25\n",
    "\n",
    "deviacion=math.sqrt(varianza)\n",
    "cv=deviacion/media\n",
    "print(\"media\",media)\n",
    "print(\"varianza\",varianza)\n",
    "print(\"desviaion estandar\",deviacion)\n",
    "print(\"coeficioente de variacion\",cv)"
   ]
  },
  {
   "cell_type": "code",
   "execution_count": 3,
   "metadata": {
    "collapsed": false
   },
   "outputs": [
    {
     "data": {
      "image/png": "[encoded data removed]",
      "text/plain": [
       "<matplotlib.figure.Figure at 0x24a5d1cfe10>"
      ]
     },
     "metadata": {},
     "output_type": "display_data"
    }
   ],
   "source": [
    "import random\n",
    "from matplotlib.pylab import hist, show\n",
    "%matplotlib inline\n",
    "v=range(7,11)\n",
    "valor=([8.8, 9.5, 9.8, 9.4, 10.0, 9.4, 10.1, 9.2, 11.3, 9.4, 10.0, 10.4, 7.9 ,10.4 ,9.8 ,9.8 ,9.5, 8.9, 8.8, 10.6, 10.1, 9.5, 9.6, 10.2, 8.9])\n",
    "hist(valor,30)\n",
    "show()"
   ]
  },
  {
   "cell_type": "code",
   "execution_count": 4,
   "metadata": {
    "collapsed": false
   },
   "outputs": [
    {
     "name": "stdout",
     "output_type": "stream",
     "text": [
      "media 28.003571428571423\n",
      "varianza 1.1610586734693868\n",
      "desviaion estandar 1.0775243261613108\n",
      "coeficioente de variacion 0.038478103727224475\n"
     ]
    }
   ],
   "source": [
    "import numpy as np\n",
    "import math\n",
    "valor=([28.65, 26.55, 26.65, 27.65 ,27.35 ,28.35 ,26.85, 28.65, 29.65, 27.85 ,27.05, 28.25, 28.35, 26.75, 27.65, 28.45, 28.65, 28.45, 31.65, 26.35,27.75, 29.25 ,27.65 ,28.65 ,27.65, 28.55 ,27.55, 27.25])\n",
    "cv=0\n",
    "sumatoria=0;\n",
    "media=0;\n",
    "varianza=0;\n",
    "deviacion=0 ;\n",
    "\n",
    "for i in range (28):\n",
    "    sumatoria=sumatoria+valor[i]\n",
    "media=sumatoria/28\n",
    "\n",
    "for j in range(28):\n",
    "    rango=0;\n",
    "    rango=math.pow(valor[j]-media,2)\n",
    "\n",
    "    varianza=varianza+rango\n",
    "\n",
    "varianza=varianza/28\n",
    "\n",
    "deviacion=math.sqrt(varianza)\n",
    "cv=deviacion/media\n",
    "print(\"media\",media)\n",
    "print(\"varianza\",varianza)\n",
    "print(\"desviaion estandar\",deviacion)\n",
    "print(\"coeficioente de variacion\",cv)"
   ]
  },
  {
   "cell_type": "code",
   "execution_count": 5,
   "metadata": {
    "collapsed": false
   },
   "outputs": [
    {
     "data": {
      "image/png": "[encoded data removed]",
      "text/plain": [
       "<matplotlib.figure.Figure at 0x24a5d0713c8>"
      ]
     },
     "metadata": {},
     "output_type": "display_data"
    }
   ],
   "source": [
    "#f ) Construya un histograma. Use un rango de 26 a 32 con incrementos de 0.5. \n",
    "import random\n",
    "from matplotlib.pylab import hist, show\n",
    "%matplotlib inline\n",
    "\n",
    "v=range(26,32)\n",
    "valor=([28.65, 26.55, 26.65, 27.65 ,27.35 ,28.35 ,26.85, 28.65, 29.65, 27.85 ,27.05, 28.25, 28.35, 26.75, 27.65, 28.45, 28.65, 28.45, 31.65, 26.35,27.75, 29.25 ,27.65 ,28.65 ,27.65, 28.55 ,27.55, 27.25])\n",
    "hist(valor,30)\n",
    "show()"
   ]
  },
  {
   "cell_type": "code",
   "execution_count": 6,
   "metadata": {
    "collapsed": false
   },
   "outputs": [
    {
     "name": "stdout",
     "output_type": "stream",
     "text": [
      "rango inferior al 68%\n",
      "26.35\n",
      "26.55\n",
      "26.65\n",
      "26.75\n",
      "26.85\n",
      "27.05\n",
      "27.25\n",
      "27.35\n",
      "27.55\n",
      "27.65\n",
      "27.65\n",
      "27.65\n",
      "27.65\n",
      "27.75\n",
      "27.85\n",
      "28.25\n",
      "28.35\n",
      "28.35\n",
      "28.45\n",
      "rango superior al 68%\n",
      "28.45\n",
      "28.55\n",
      "28.65\n",
      "28.65\n",
      "28.65\n",
      "28.65\n",
      "29.25\n",
      "29.65\n",
      "31.65\n"
     ]
    }
   ],
   "source": [
    "#g) Si se supone que la distribución es normal y que la estimación de la desviación estándar es válida, calcule el rango \n",
    "#(es decir, los valores inferior y superior) que agrupa al 68% de los datos. Determine si esta es una estimación válida para \n",
    "#los datos del problema.\n",
    "\n",
    "list=[28.65, 26.55, 26.65, 27.65 ,27.35 ,28.35 ,26.85, 28.65, 29.65, 27.85 ,27.05, 28.25, 28.35, 26.75, 27.65, 28.45, 28.65, 28.45, 31.65, 26.35,27.75, 29.25 ,27.65 ,28.65 ,27.65, 28.55 ,27.55, 27.25]\n",
    "h =sorted(list)\n",
    "a=int(28*0.68)\n",
    "i=0\n",
    "b=28-a\n",
    "print(\"rango inferior al 68%\")\n",
    "for i in range(a):\n",
    "    print(h[i])\n",
    "j=19\n",
    "print(\"rango superior al 68%\")\n",
    "for j in range(a,28):\n",
    "    print(h[j])"
   ]
  },
  {
   "cell_type": "code",
   "execution_count": 8,
   "metadata": {
    "collapsed": false
   },
   "outputs": [
    {
     "data": {
      "image/png": "[encoded data removed]",
      "text/plain": [
       "<matplotlib.figure.Figure at 0x24a5d10f2e8>"
      ]
     },
     "metadata": {},
     "output_type": "display_data"
    },
    {
     "name": "stdout",
     "output_type": "stream",
     "text": [
      "0.836799185485\n",
      "0.000208102344297\n"
     ]
    }
   ],
   "source": [
    "from numpy import*\n",
    "from matplotlib.pyplot import *\n",
    "from scipy.interpolate import*\n",
    "from scipy.stats import*\n",
    "x=array([0 ,2, 4 ,6 ,9 ,11 ,12 ,15 ,17 ,19])\n",
    "y=array([5 ,6 ,7 ,6 ,9 ,8 ,7 ,10, 12 ,12])\n",
    "%matplotlib inline\n",
    "pl=polyfit(x,y,1)\n",
    "\n",
    "\n",
    "p2=polyfit(x,y,2)\n",
    "p3=polyfit(x,y,3)\n",
    "plot(x,y,'o')\n",
    "xp=linspace(-2,20,100)\n",
    "plot(xp,polyval(pl,xp),'r-')\n",
    "plot(xp,polyval(p2,xp),'b-')\n",
    "plot(xp,polyval(p3,xp),'m:')\n",
    "show()\n",
    "yfit=pl[0]*x+pl[1]\n",
    "yreaid=y-yfit\n",
    "SSresid=sum(pow(yreaid,2))\n",
    "ss=len(y)*var(y)\n",
    "rsq=1-SSresid/ss\n",
    "slope,intecept,r_value,p_value,std_err=linregress(x,y)\n",
    "print(rsq)\n",
    "print(p_value)"
   ]
  },
  {
   "cell_type": "code",
   "execution_count": 9,
   "metadata": {
    "collapsed": false
   },
   "outputs": [
    {
     "data": {
      "image/png": "[encoded data removed]",
      "text/plain": [
       "<matplotlib.figure.Figure at 0x24a5dcf9470>"
      ]
     },
     "metadata": {},
     "output_type": "display_data"
    },
    {
     "name": "stdout",
     "output_type": "stream",
     "text": [
      "0.836799185485\n",
      "0.000208102344297\n"
     ]
    }
   ],
   "source": [
    "from numpy import*\n",
    "from matplotlib.pyplot import *\n",
    "from scipy.interpolate import*\n",
    "from scipy.stats import*\n",
    "y=array([0 ,2, 4 ,6 ,9 ,11 ,12 ,15 ,17 ,19])\n",
    "x=array([5 ,6 ,7 ,6 ,9 ,8 ,7 ,10, 12 ,12])\n",
    "%matplotlib inline\n",
    "pl=polyfit(x,y,1)\n",
    "\n",
    "\n",
    "p2=polyfit(x,y,2)\n",
    "p3=polyfit(x,y,3)\n",
    "plot(x,y,'o')\n",
    "xp=linspace(4,15,100)\n",
    "plot(xp,polyval(pl,xp),'r-')\n",
    "plot(xp,polyval(p2,xp),'b-')\n",
    "plot(xp,polyval(p3,xp),'m:')\n",
    "show()\n",
    "yfit=pl[0]*x+pl[1]\n",
    "yreaid=y-yfit\n",
    "SSresid=sum(pow(yreaid,2))\n",
    "ss=len(y)*var(y)\n",
    "raq=1-SSresid/ss\n",
    "slope,intecept,r_value,p_value,std_err=linregress(x,y)\n",
    "\n",
    "print(rsq)\n",
    "print(p_value)"
   ]
  },
  {
   "cell_type": "code",
   "execution_count": 10,
   "metadata": {
    "collapsed": false
   },
   "outputs": [
    {
     "data": {
      "image/png": "[encoded data removed]",
      "text/plain": [
       "<matplotlib.figure.Figure at 0x24a5d913ef0>"
      ]
     },
     "metadata": {},
     "output_type": "display_data"
    },
    {
     "name": "stdout",
     "output_type": "stream",
     "text": [
      "0.836799185485\n",
      "0.000149860132041\n"
     ]
    }
   ],
   "source": [
    "from numpy import*\n",
    "from matplotlib.pyplot import *\n",
    "from scipy.interpolate import*\n",
    "from scipy.stats import*\n",
    "y=array([ 29, 21 ,29 ,14, 21, 15, 7, 7, 13, 0, 3])\n",
    "x=array([ 6 ,7, 11, 15, 17 ,21, 23, 29, 29, 37, 39 ])\n",
    "%matplotlib inline\n",
    "pl=polyfit(x,y,1)\n",
    "\n",
    "\n",
    "p2=polyfit(x,y,2)\n",
    "p3=polyfit(x,y,3)\n",
    "plot(x,y,'o')\n",
    "xp=linspace(0,40,100)\n",
    "plot(xp,polyval(pl,xp),'r-')\n",
    "plot(xp,polyval(p2,xp),'b-')\n",
    "plot(xp,polyval(p3,xp),'m:')\n",
    "show()\n",
    "yfit=pl[0]*x+pl[1]\n",
    "yreaid=y-yfit\n",
    "SSresid=sum(pow(yreaid,2))\n",
    "ss=len(y)*var(y)\n",
    "raq=1-SSresid/ss\n",
    "slope,intecept,r_value,p_value,std_err=linregress(x,y)\n",
    "\n",
    "print(rsq)\n",
    "print(p_value)"
   ]
  },
  {
   "cell_type": "code",
   "execution_count": 11,
   "metadata": {
    "collapsed": false
   },
   "outputs": [
    {
     "data": {
      "image/png": "[encoded data removed]",
      "text/plain": [
       "<matplotlib.figure.Figure at 0x24a5dcf1400>"
      ]
     },
     "metadata": {},
     "output_type": "display_data"
    },
    {
     "name": "stdout",
     "output_type": "stream",
     "text": [
      "0.836799185485\n",
      "0.000497082829739\n"
     ]
    }
   ],
   "source": [
    "from numpy import*\n",
    "from matplotlib.pyplot import *\n",
    "from scipy.interpolate import*\n",
    "from scipy.stats import*\n",
    "x=array([2, 4, 6, 7, 10, 11 ,14 ,17 ,20 ])\n",
    "y=array([1 ,2, 5, 2, 8 ,7 ,6 ,9 ,12])\n",
    "%matplotlib inline\n",
    "pl=polyfit(x,y,1)\n",
    "\n",
    "\n",
    "p2=polyfit(x,y,2)\n",
    "p3=polyfit(x,y,3)\n",
    "plot(x,y,'o')\n",
    "xp=linspace(0,20,100)\n",
    "plot(xp,polyval(pl,xp),'r-')\n",
    "plot(xp,polyval(p2,xp),'b-')\n",
    "plot(xp,polyval(p3,xp),'m:')\n",
    "show()\n",
    "yfit=pl[0]*x+pl[1]\n",
    "yreaid=y-yfit\n",
    "SSresid=sum(pow(yreaid,2))\n",
    "ss=len(y)*var(y)\n",
    "raq=1-SSresid/ss\n",
    "slope,intecept,r_value,p_value,std_err=linregress(x,y)\n",
    "\n",
    "print(rsq)\n",
    "print(p_value)"
   ]
  },
  {
   "cell_type": "code",
   "execution_count": null,
   "metadata": {
    "collapsed": true
   },
   "outputs": [],
   "source": []
  }
 ],
 "metadata": {
  "kernelspec": {
   "display_name": "Python 3",
   "language": "python",
   "name": "python3"
  },
  "language_info": {
   "codemirror_mode": {
    "name": "ipython",
    "version": 3
   },
   "file_extension": ".py",
   "mimetype": "text/x-python",
   "name": "python",
   "nbconvert_exporter": "python",
   "pygments_lexer": "ipython3",
   "version": "3.5.1"
  }
 },
 "nbformat": 4,
 "nbformat_minor": 0
}
