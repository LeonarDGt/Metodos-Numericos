{
 "cells": [
  {
   "cell_type": "code",
   "execution_count": 2,
   "metadata": {
    "collapsed": false
   },
   "outputs": [
    {
     "name": "stdout",
     "output_type": "stream",
     "text": [
      "   Iteracion             X1               X2               Xr     \n",
      "              0 |              12 | 14.911303179106 | 14.911303179106\n",
      "              1 |              12 | 14.794192783301 | 14.794192783301\n",
      "              2 |              12 | 14.781695337923 | 14.781695337923\n",
      "              3 |              12 | 14.780362843006 | 14.780362843006\n",
      "              4 |              12 | 14.780220783906 | 14.780220783906\n",
      "              5 |              12 | 14.780205638943 | 14.780205638943\n",
      "              6 |              12 | 14.780204024336 | 14.780204024336\n",
      "              7 |              12 | 14.780203852202 | 14.780203852202\n",
      "              8 |              12 | 14.780203833851 | 14.780203833851\n",
      "              9 |              12 | 14.780203831895 | 14.780203831895\n",
      "             10 |              12 | 14.780203831686 | 14.780203831686\n",
      "             11 |              12 | 14.780203831664 | 14.780203831664\n"
     ]
    }
   ],
   "source": [
    "import math\n",
    "\n",
    "m=68.1 \n",
    "t=10\n",
    "g=9.8\n",
    "v=40\n",
    "i=0\n",
    "x1=12\n",
    "x2=16\n",
    "\n",
    "fcx1=((g*m)/x1)*(1-math.pow(math.exp(1),-(x1/m)*t))-v\n",
    "fcx2=((g*m)/x2)*(1-math.pow(math.exp(1),-(x2/m)*t))-v\n",
    "fcxt=fcx1*fcx2\n",
    "print (\"{0:15}  {1:15}  {2:15}  {3:15}\".format(\"   Iteracion\",\"        X1\",\"        X2\",\"        Xr\"));\n",
    "if fcxt<0:\n",
    "    \n",
    "    while True:\n",
    "        \n",
    "        fc1=((g*m)/x1)*(1-pow(math.exp(1),-(x1/m)*t))-v\n",
    "        fc2=((g*m)/x2)*(1-pow(math.exp(1),-(x2/m)*t))-v\n",
    "        xr=x2-(fc2*(x1-x2)/(fc1-fc2))\n",
    "        fct=fc1*fc2\n",
    "        if fct<0:\n",
    "            x2=xr\n",
    "            print (\"{0:15} | {1:15} | {2:15} | {3:15}\".format(i,round(x1,12),round(x2,12),round(xr,12)));\n",
    "        if fct>0:\n",
    "            x1=xr\n",
    "            print (\"{0:15} | {1:15} | {2:15} | {3:15}\".format(i,round(x1,12),round(x2,12),round(xr,12)));\n",
    "        if fct==0:\n",
    "            print (\"{0:15} | {1:15} | {2:15} | {3:15}\".format(i,round(x1,12),round(x2,12),round(xr,12)));\n",
    "        if i>10:\n",
    "            break\n",
    "        i=i+1\n"
   ]
  }
 ],
 "metadata": {
  "kernelspec": {
   "display_name": "Python 3",
   "language": "python",
   "name": "python3"
  },
  "language_info": {
   "codemirror_mode": {
    "name": "ipython",
    "version": 3
   },
   "file_extension": ".py",
   "mimetype": "text/x-python",
   "name": "python",
   "nbconvert_exporter": "python",
   "pygments_lexer": "ipython3",
   "version": "3.5.1"
  }
 },
 "nbformat": 4,
 "nbformat_minor": 0
}
