{
 "cells": [
  {
   "cell_type": "code",
   "execution_count": 21,
   "metadata": {
    "collapsed": false
   },
   "outputs": [
    {
     "name": "stdout",
     "output_type": "stream",
     "text": [
      "1 0\n",
      "4 1.386294\n",
      "6 1.791759\n",
      "5 1.609438\n"
     ]
    }
   ],
   "source": [
    "x=[]\n",
    "fx=[]\n",
    "n=len(x)\n",
    "\n",
    "for i in range(0,7,1):\n",
    "    if i==1:\n",
    "        x.append(1)\n",
    "        fx.append(0)\n",
    "    if i==4:\n",
    "        x.append(4)\n",
    "        fx.append(1.386294)\n",
    "    if i==5:\n",
    "        x.append(6)\n",
    "        fx.append(1.791759)\n",
    "    if i==6:\n",
    "        x.append(5)\n",
    "        fx.append(1.609438)\n",
    "        \n",
    "for j in range(0,4,1):\n",
    "      print(x[j],fx[j])\n",
    "        \n",
    "def Funcion(n):\n",
    "    if n==1:\n",
    "        return fx[n];\n",
    "   \n",
    "    \n",
    "Funcion(n)\n",
    "    \n",
    "        \n",
    "    \n"
   ]
  },
  {
   "cell_type": "code",
   "execution_count": null,
   "metadata": {
    "collapsed": true
   },
   "outputs": [],
   "source": []
  }
 ],
 "metadata": {
  "kernelspec": {
   "display_name": "Python 3",
   "language": "python",
   "name": "python3"
  },
  "language_info": {
   "codemirror_mode": {
    "name": "ipython",
    "version": 3
   },
   "file_extension": ".py",
   "mimetype": "text/x-python",
   "name": "python",
   "nbconvert_exporter": "python",
   "pygments_lexer": "ipython3",
   "version": "3.5.1"
  }
 },
 "nbformat": 4,
 "nbformat_minor": 0
}
