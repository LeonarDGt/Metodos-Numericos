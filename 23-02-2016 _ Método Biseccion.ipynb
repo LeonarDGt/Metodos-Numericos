{
 "cells": [
  {
   "cell_type": "code",
   "execution_count": 18,
   "metadata": {
    "collapsed": false
   },
   "outputs": [
    {
     "name": "stdout",
     "output_type": "stream",
     "text": [
      "   Iteracion             X1               X2               Xr     \n",
      "              0 |            14.0 |              16 |            14.0\n",
      "              1 |            14.0 |            15.0 |            15.0\n",
      "              2 |            14.5 |            15.0 |            14.5\n",
      "              3 |           14.75 |            15.0 |           14.75\n",
      "              4 |           14.75 |          14.875 |          14.875\n",
      "              5 |           14.75 |         14.8125 |         14.8125\n",
      "              6 |           14.75 |        14.78125 |        14.78125\n",
      "              7 |       14.765625 |        14.78125 |       14.765625\n",
      "              8 |      14.7734375 |        14.78125 |      14.7734375\n",
      "              9 |     14.77734375 |        14.78125 |     14.77734375\n",
      "             10 |    14.779296875 |        14.78125 |    14.779296875\n",
      "             11 |    14.779296875 |   14.7802734375 |   14.7802734375\n",
      "             12 |  14.77978515625 |   14.7802734375 |  14.77978515625\n",
      "             13 | 14.780029296875 |   14.7802734375 | 14.780029296875\n",
      "             14 | 14.780151367188 |   14.7802734375 | 14.780151367188\n",
      "             15 | 14.780151367188 | 14.780212402344 | 14.780212402344\n",
      "             16 | 14.780181884766 | 14.780212402344 | 14.780181884766\n",
      "             17 | 14.780197143555 | 14.780212402344 | 14.780197143555\n",
      "             18 | 14.780197143555 | 14.780204772949 | 14.780204772949\n",
      "             19 | 14.780200958252 | 14.780204772949 | 14.780200958252\n",
      "             20 | 14.780202865601 | 14.780204772949 | 14.780202865601\n",
      "             21 | 14.780203819275 | 14.780204772949 | 14.780203819275\n",
      "             22 | 14.780203819275 | 14.780204296112 | 14.780204296112\n",
      "             23 | 14.780203819275 | 14.780204057693 | 14.780204057693\n",
      "             24 | 14.780203819275 | 14.780203938484 | 14.780203938484\n",
      "             25 | 14.780203819275 |  14.78020387888 |  14.78020387888\n",
      "             26 | 14.780203819275 | 14.780203849077 | 14.780203849077\n",
      "             27 | 14.780203819275 | 14.780203834176 | 14.780203834176\n",
      "             28 | 14.780203826725 | 14.780203834176 | 14.780203826725\n",
      "             29 | 14.780203830451 | 14.780203834176 | 14.780203830451\n",
      "             30 | 14.780203830451 | 14.780203832313 | 14.780203832313\n",
      "             31 | 14.780203831382 | 14.780203832313 | 14.780203831382\n"
     ]
    },
    {
     "data": {
      "image/png": "[encoded data removed]",
      "text/plain": [
       "<matplotlib.figure.Figure at 0x227649ca588>"
      ]
     },
     "metadata": {},
     "output_type": "display_data"
    }
   ],
   "source": [
    "import math\n",
    "import matplotlib.pyplot as L\n",
    "%matplotlib inline\n",
    "\n",
    "x=[]\n",
    "y=[]\n",
    "l=[1,0,-1]\n",
    "m=68.1 \n",
    "t=10\n",
    "g=9.8\n",
    "v=40\n",
    "i=0\n",
    "x1=12\n",
    "x2=16\n",
    "\n",
    "fcx1=((g*m)/x1)*(1-math.pow(math.exp(1),-(x1/m)*t))-v\n",
    "fcx2=((g*m)/x2)*(1-math.pow(math.exp(1),-(x2/m)*t))-v\n",
    "fcxt=fcx1*fcx2\n",
    "print (\"{0:15}  {1:15}  {2:15}  {3:15}\".format(\"   Iteracion\",\"        X1\",\"        X2\",\"        Xr\"));\n",
    "if fcxt<0:\n",
    "    \n",
    "    while True:\n",
    "        \n",
    "        xr=(x1+x2)/2\n",
    "        fc1=((g*m)/x1)*(1-pow(math.exp(1),-(x1/m)*t))-v\n",
    "        fc2=((g*m)/xr)*(1-pow(math.exp(1),-(xr/m)*t))-v\n",
    "        fu=(g*m/(i+1))*(1-pow(math.exp(1),-((i+1)/m)*t))-v\n",
    "        fct=fc1*fc2\n",
    "        if fct<0:\n",
    "            x2=xr\n",
    "            print (\"{0:15} | {1:15} | {2:15} | {3:15}\".format(i,round(x1,12),round(x2,12),round(xr,12)));\n",
    "        if fct>0:\n",
    "            x1=xr\n",
    "            print (\"{0:15} | {1:15} | {2:15} | {3:15}\".format(i,round(x1,12),round(x2,12),round(xr,12)));\n",
    "        if fct==0:\n",
    "            print (\"{0:15} | {1:15} | {2:15} | {3:15}\".format(i,round(x1,12),round(x2,12),round(xr,12)));\n",
    "        if i>30:\n",
    "            break\n",
    "        i=i+1\n",
    "        x.append(i)\n",
    "        y.append(fu)\n",
    "xl=[xr,xr,xr]\n",
    "L.plot(xl,l,'k',linewidth=2,label='Raiz(xr)')\n",
    "L.hold(True)\n",
    "L.plot(x,y,'r',linewidth=2,label='Analitico')\n",
    "L.xlabel('U')\n",
    "L.ylabel('F(u)')\n",
    "L.legend(loc = 2)\n",
    "L.show()\n",
    "\n"
   ]
  }
 ],
 "metadata": {
  "kernelspec": {
   "display_name": "Python 3",
   "language": "python",
   "name": "python3"
  },
  "language_info": {
   "codemirror_mode": {
    "name": "ipython",
    "version": 3
   },
   "file_extension": ".py",
   "mimetype": "text/x-python",
   "name": "python",
   "nbconvert_exporter": "python",
   "pygments_lexer": "ipython3",
   "version": "3.5.1"
  }
 },
 "nbformat": 4,
 "nbformat_minor": 0
}
