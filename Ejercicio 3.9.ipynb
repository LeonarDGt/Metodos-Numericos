{
 "cells": [
  {
   "cell_type": "code",
   "execution_count": 19,
   "metadata": {
    "collapsed": false
   },
   "outputs": [
    {
     "name": "stdout",
     "output_type": "stream",
     "text": [
      "    Termino        Cos X Aprox            Et %            Ea %\n",
      "   \n",
      "              1 |             1.0 | 41.221475 %     | 100.0 %        \n",
      "              2 |  0.555867801951 | 5.7419134436 %  | -79.8988889967 %\n",
      "              3 |  0.588743370175 | 0.1627398666 %  | 5.5840235134 % \n",
      "              4 |  0.587769963616 | 0.0026007426 %  | -0.1656101228 %\n",
      "              5 |  0.587785403659 | 2.6142e-05 %    | 0.0026268163 % \n",
      "              6 |  0.587785251272 | 2.164e-07 %     | -2.59256e-05 % \n",
      "              7 |  0.587785252297 | 3.909e-07 %     | 1.745e-07 %    \n"
     ]
    }
   ],
   "source": [
    "import math\n",
    "x=0.3*math.pi\n",
    "Es=(0.5*math.pow(10,(-6)))\n",
    "Val=round(math.cos(x), 8)\n",
    "serie,i ,n =0,0,1\n",
    "band=False\n",
    "print(\"{0:15}  {1:15}  {2:15}  {3:15}\".format(\"    Termino\", \"  Cos X Aprox\", \"        Et % \", \"       Ea %\\n\"));\n",
    "while 1:\n",
    "    if(i%2==0):\n",
    "        cosxaprox=math.pow(x, i)/math.factorial(i)\n",
    "        ant=serie\n",
    "        if(band==False):\n",
    "            serie=serie+cosxaprox\n",
    "            band=True\n",
    "        else:\n",
    "            serie=serie-cosxaprox\n",
    "            band=False\n",
    "        Ev=math.fabs(Val-serie)\n",
    "        Et=(Ev/serie)*100\n",
    "        Ea=((serie-ant)/serie)*100\n",
    "        print(\"{0:15} | {1:15} | {2:15} | {3:15}\".format(n,round(serie,12),str(round(Et,10))+\" %\",str(round(Ea,10))+\" %\"));\n",
    "        n+=1\n",
    "    if(math.fabs(Ea)<Es):\n",
    "        break\n",
    "    i+=1"
   ]
  }
 ],
 "metadata": {
  "kernelspec": {
   "display_name": "Python 3",
   "language": "python",
   "name": "python3"
  },
  "language_info": {
   "codemirror_mode": {
    "name": "ipython",
    "version": 3
   },
   "file_extension": ".py",
   "mimetype": "text/x-python",
   "name": "python",
   "nbconvert_exporter": "python",
   "pygments_lexer": "ipython3",
   "version": "3.5.1"
  }
 },
 "nbformat": 4,
 "nbformat_minor": 0
}
