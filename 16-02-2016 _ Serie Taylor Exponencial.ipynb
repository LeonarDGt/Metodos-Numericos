{
 "cells": [
  {
   "cell_type": "code",
   "execution_count": 2,
   "metadata": {
    "collapsed": false,
    "scrolled": true
   },
   "outputs": [
    {
     "name": "stdout",
     "output_type": "stream",
     "text": [
      "     Tiempo         Exponencial      Error Verdadero\n",
      " \n",
      "              0 |             1.0 | 0.648721270700128\n",
      "              1 |             1.5 | 0.148721270700128\n",
      "              2 |           1.625 | 0.023721270700128\n",
      "              3 |    1.6458333333 | 0.002887937366795\n",
      "              4 |       1.6484375 | 0.000283770700128\n",
      "              5 |    1.6486979167 | 2.3354033462e-05\n",
      "              6 |    1.6487196181 | 1.652644573e-06\n",
      "              7 |    1.6487211682 |  1.02545366e-07\n",
      "              8 |     1.648721265 |    5.664166e-09\n",
      "              9 |    1.6487212704 |     2.81877e-10\n",
      "             10 |    1.6487212707 |      1.2763e-11\n",
      "             11 |    1.6487212707 |         5.3e-13\n",
      "             12 |    1.6487212707 |         2.1e-14\n",
      "             13 |    1.6487212707 |           1e-15\n",
      "             14 |    1.6487212707 |             0.0\n",
      "             15 |    1.6487212707 |             0.0\n",
      "             16 |    1.6487212707 |             0.0\n",
      "             17 |    1.6487212707 |             0.0\n",
      "             18 |    1.6487212707 |             0.0\n",
      "             19 |    1.6487212707 |             0.0\n"
     ]
    }
   ],
   "source": [
    "import math\n",
    "\n",
    "valor=0\n",
    "sumador=0\n",
    "x=0.5\n",
    "print (\"{0:15}  {1:15}  {2:15} \".format(\"     Tiempo\",\"   Exponencial\",\"   Error Verdadero\\n\"));\n",
    "for i in range(0, 20, 1):\n",
    "    valor=float(float(math.pow(x,i))/float(math.factorial(i)))\n",
    "    sumador=sumador+valor\n",
    "    Et=math.pow(math.exp(1),0.5)-sumador\n",
    "    et=(Et*100)/sumador\n",
    "    print (\"{0:15} | {1:15} | {2:15}\".format(i,round(sumador,10),round(Et,15)));\n",
    "    \n",
    "    "
   ]
  }
 ],
 "metadata": {
  "kernelspec": {
   "display_name": "Python 3",
   "language": "python",
   "name": "python3"
  },
  "language_info": {
   "codemirror_mode": {
    "name": "ipython",
    "version": 3
   },
   "file_extension": ".py",
   "mimetype": "text/x-python",
   "name": "python",
   "nbconvert_exporter": "python",
   "pygments_lexer": "ipython3",
   "version": "3.5.1"
  }
 },
 "nbformat": 4,
 "nbformat_minor": 0
}
