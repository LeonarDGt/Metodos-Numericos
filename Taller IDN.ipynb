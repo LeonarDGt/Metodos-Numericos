{
 "cells": [
  {
   "cell_type": "markdown",
   "metadata": {},
   "source": [
    "1) Implemente la regla del trapecio de un segmento y multiples segmentos (sub 21.1.2) de la figura 21.9\n",
    "Y\n",
    "2) Desarrolle los Ejemplos 21.1 y 21.2"
   ]
  },
  {
   "cell_type": "code",
   "execution_count": 38,
   "metadata": {
    "collapsed": false
   },
   "outputs": [
    {
     "name": "stdout",
     "output_type": "stream",
     "text": [
      "El valor aproximado de la integral por regla del trapecio simple es:  0.1728000000000225\n"
     ]
    }
   ],
   "source": [
    "# PUNTO 1 Y 2\n",
    "# Regla trapecio para un segmento\n",
    "# f(x)= 0.2 + 25x-200x^2+675x^3 -900x^4+400x^5 desde a=0 hasta b=0.8\n",
    "# valor analitico = 1.640533\n",
    "\n",
    "def f(x):\n",
    "    f=0.2 + 25*x-200*x**2+675*x**3-900*x**4+400*x**5\n",
    "    return f\n",
    "a=0\n",
    "b=0.8\n",
    "h=b-a\n",
    "I=h*((f(a)+f(b))/2)\n",
    "\n",
    "print(\"El valor aproximado de la integral por regla del trapecio simple es: \",I)"
   ]
  },
  {
   "cell_type": "code",
   "execution_count": 41,
   "metadata": {
    "collapsed": false
   },
   "outputs": [
    {
     "name": "stdout",
     "output_type": "stream",
     "text": [
      "El valor aproximado de la integral por regla del trapecio multiple es:  1.0688000000000115\n"
     ]
    }
   ],
   "source": [
    "# PUNTO 1 Y 2\n",
    "# Regla trapecio para multiples segmentos\n",
    "# f(x)= 0.2 + 25x-200x^2+675x^3 -900x^4+400x^5 desde a=0 hasta b=0.8\n",
    "# valor analitico = 1.640533\n",
    "\n",
    "def f(x):\n",
    "    f=0.2 + 25*x-200*x**2+675*x**3-900*x**4+400*x**5\n",
    "    return f\n",
    "a=0\n",
    "b=0.8\n",
    "n=2\n",
    "h=((b-a)/n)\n",
    "\n",
    "f=[f(a),f(h),f(b)]\n",
    "\n",
    "suma=f[0]\n",
    "for i in range(1,n,1):\n",
    "    suma=suma + 2*f[i]\n",
    "suma= suma+f[n]\n",
    "I=h*(suma/2)\n",
    "\n",
    "print(\"El valor aproximado de la integral por regla del trapecio multiple es: \",I)"
   ]
  },
  {
   "cell_type": "markdown",
   "metadata": {},
   "source": [
    "3) Implemente la regla de Simpson 1/3 para un segmento y multiples segmentos (sub 21.2.2) de las figuras 21.13a y 21.13c\n",
    "Y\n",
    "4) Desarrolle los ejemplos 21.4 y 21.5"
   ]
  },
  {
   "cell_type": "code",
   "execution_count": 40,
   "metadata": {
    "collapsed": false
   },
   "outputs": [
    {
     "name": "stdout",
     "output_type": "stream",
     "text": [
      "El valor aproximado de la integral por regla Simpson 1/3 simple es:  1.3674666666666744\n"
     ]
    }
   ],
   "source": [
    "# PUNTO 3 Y 4\n",
    "# Regla Simpson 1/3 para un segmento\n",
    "# f(x)= 0.2 + 25x-200x^2+675x^3 -900x^4+400x^5 desde a=0 hasta b=0.8\n",
    "# valor analitico = 1.640533\n",
    "\n",
    "def f(x):\n",
    "    f=0.2 + 25*x-200*x**2+675*x**3-900*x**4+400*x**5\n",
    "    return f\n",
    "\n",
    "a=0\n",
    "b=0.8\n",
    "h=(b-a)/2\n",
    "I=2*h*(f(a)+4*f(h)+f(b))/6\n",
    "\n",
    "print(\"El valor aproximado de la integral por regla Simpson 1/3 simple es: \",I)"
   ]
  },
  {
   "cell_type": "code",
   "execution_count": 77,
   "metadata": {
    "collapsed": false
   },
   "outputs": [
    {
     "name": "stdout",
     "output_type": "stream",
     "text": [
      "El valor aproximado de la integral por regla Simpson 1/3 multiple es:  1.623466666666672\n"
     ]
    }
   ],
   "source": [
    "# PUNTO 3 Y 4\n",
    "# Regla Simpson 1/3 para multiples segmentos\n",
    "# f(x)= 0.2 + 25x-200x^2+675x^3 -900x^4+400x^5 desde a=0 hasta b=0.8\n",
    "# valor analitico = 1.640533\n",
    "\n",
    "def f(x):\n",
    "    f=0.2 + 25*x-200*x**2+675*x**3-900*x**4+400*x**5\n",
    "    return f\n",
    "a=0\n",
    "b=0.8\n",
    "n=4\n",
    "h=((b-a)/n)\n",
    "\n",
    "f=[f(a),f(h),f(h*2),f(h*3),f(b)]\n",
    "\n",
    "suma=f[0]\n",
    "\n",
    "for i in range(1,n-1,2):\n",
    "    suma=suma + 4*f[i]+2*f[i+1]\n",
    "suma= suma+4*f[n-1]+f[n]\n",
    "I=h*(suma/3)\n",
    "\n",
    "print(\"El valor aproximado de la integral por regla Simpson 1/3 multiple es: \",I)\n"
   ]
  },
  {
   "cell_type": "markdown",
   "metadata": {},
   "source": [
    "5) Implemente la regla de Simpson 3/8 para un segmento y multiples segmentos (sub 21.2.2) de las figuras 21.13b y 21.13d"
   ]
  },
  {
   "cell_type": "code",
   "execution_count": 86,
   "metadata": {
    "collapsed": false
   },
   "outputs": [
    {
     "name": "stdout",
     "output_type": "stream",
     "text": [
      "El valor aproximado de la integral por regla Simpson 3/8 simple es:  1.5191703703703778\n"
     ]
    }
   ],
   "source": [
    "# Regla Simpson 3/8 para un segmento\n",
    "# f(x)= 0.2 + 25x-200x^2+675x^3 -900x^4+400x^5 desde a=0 hasta b=0.8\n",
    "# valor analitico = 1.640533\n",
    "\n",
    "def f(x):\n",
    "    f=0.2 + 25*x-200*x**2+675*x**3-900*x**4+400*x**5\n",
    "    return f\n",
    "\n",
    "a=0\n",
    "b=0.8\n",
    "h=(b-a)/3\n",
    "\n",
    "I=3*h*(f(a)+3*(f(h)+f(h*2))+f(b)) / 8\n",
    "\n",
    "print(\"El valor aproximado de la integral por regla Simpson 3/8 simple es: \",I)"
   ]
  },
  {
   "cell_type": "code",
   "execution_count": 101,
   "metadata": {
    "collapsed": false
   },
   "outputs": [
    {
     "name": "stdout",
     "output_type": "stream",
     "text": [
      "El valor aproximado de la integral por regla Simpson 1/3 simple es:  0.38032370346666705\n",
      "El valor aproximado de la integral por regla Simpson 3/8 simple es:  1.2647534592000125\n",
      "Valor total de la integral es:  1.6450771626666796\n"
     ]
    }
   ],
   "source": [
    "# Regla Simpson 3/8 para multiples segmentos\n",
    "# f(x)= 0.2 + 25x-200x^2+675x^3 -900x^4+400x^5 desde a=0 hasta b=0.8\n",
    "# valor analitico = 1.640533\n",
    "\n",
    "def f(x):\n",
    "    f=0.2 + 25*x-200*x**2+675*x**3-900*x**4+400*x**5\n",
    "    return f\n",
    "a=0\n",
    "b=0.8\n",
    "n=5\n",
    "h=((b-a)/n)\n",
    "\n",
    "f=[f(a),f(h),f(h*2),f(h*3),f(h*4),f(b)]\n",
    "\n",
    "I=2*h*(f[0]+4*f[1]+f[2])/6\n",
    "print(\"El valor aproximado de la integral por regla Simpson 1/3 simple es: \",I)\n",
    "\n",
    "I1=3*h*(f[2]+3*(f[3]+f[4])+f[5])/ 8\n",
    "print(\"El valor aproximado de la integral por regla Simpson 3/8 simple es: \",I1)\n",
    "print(\"Valor total de la integral es: \",I+I1)"
   ]
  },
  {
   "cell_type": "markdown",
   "metadata": {},
   "source": [
    "6) Implementar las formulas de diferencias divididas finitas de las figuras 23.1,23.2 y 23.3"
   ]
  },
  {
   "cell_type": "code",
   "execution_count": null,
   "metadata": {
    "collapsed": true
   },
   "outputs": [],
   "source": [
    "#Fórmulas de diferencias divididas finitas hacia delante\n",
    "\n",
    "#==>Primera derivada\n",
    "    f=(f[xi+1]-f[xi])/h\n",
    "    f=(-f[xi+2]+4*f[xi+1]-3*f[xi])/2*h\n",
    "    \n",
    "#==>Segunda derivada\n",
    "    f=(f[xi+2]-2*f[xi+1]+f[xi])/h**2\n",
    "    f=(-f[xi+3]+4*f[xi+2]-5*f[xi+1]+2*f[xi])/h**2\n",
    "    \n",
    "#==>Tercer derivada\n",
    "    f=(f[xi+3]-3*f[xi+2]+3*f[xi+1]-f[xi])/h**3\n",
    "    f=(-3*f[xi+4]+14*f[xi+3]-24*f[xi+2]+18*f[xi+1]-5f[xi])/2*h**3\n",
    "    \n",
    "#==>Cuarta derivada    \n",
    "    f=(f[xi+4]-4*f[xi+3]+6*f[xi+2]-4*f[xi+1]+f[xi])/h**4\n",
    "    f=(-2*f[xi+5]+11*f[xi+4]-24*f[xi+3]+26*f[xi+2]-14*f[xi+1]+3*f[xi])/h**4\n",
    "    \n",
    "#////////////////////////////////////////////////////////////////////////////////////////\n",
    "\n",
    "#Fórmulas de diferencias divididas finitas centradas\n",
    "\n",
    "#==>Primera derivada\n",
    "    f=(f[xi+1]-f[xi-1])/2*h\n",
    "    f=(-f[xi+2]+8*f[xi+1]-8*f[xi-1]+f[xi-2])/12*h\n",
    "    \n",
    "#==>Segunda derivada\n",
    "    f=(f[xi+1]-2*f[xi]+f[xi-1])/h**2\n",
    "    f=(-f[xi+2]+16*f[xi+1]-30*f[xi]+16*f[xi-1]-f[xi-2])/12*h**2\n",
    "    \n",
    "#==>Tercer derivada\n",
    "    f=(f[xi+2]-2*f[xi+1]+2*f[xi-1]-f[xi-2])/2*h**3\n",
    "    f=(-f[xi+3]+8*f[xi+2]-13*f[xi+1]+13*f[xi-1]-8*f[xi-2]+f[xi-3])/8*h**3\n",
    "    \n",
    "#==>Cuarta derivada    \n",
    "    f=(f[xi+2]-4*f[xi+1]+6*f[xi]-4*f[xi-1]+f[xi-2])/h**4\n",
    "    f=(-f[xi+3]+12*f[xi+2]+39*f[xi+1]+56*f[xi]-39*f[xi-1]+12*f[xi-2]+f[xi-3])/6*h**4\n",
    "    \n",
    "#////////////////////////////////////////////////////////////////////////////////////////\n",
    "\n",
    "#Fórmulas de diferencias divididas finitas hacia atras\n",
    "\n",
    "#==>Primera derivada\n",
    "    f=(f[xi]-f[xi-1])/h\n",
    "    f=(3*f[xi]-4*f[xi-1]+f[xi-2])/2*h\n",
    "    \n",
    "#==>Segunda derivada\n",
    "    f=(f[xi]-2*f[xi-1]+f[xi-2])/h**2\n",
    "    f=(2*f[xi]-5*f[xi-1]+4*f[xi-2]-f[xi-3])/h**2\n",
    "    \n",
    "#==>Tercer derivada\n",
    "    f=(f[xi]-3*f[xi-1]+3*f[xi-2]-f[xi-3])/h**3\n",
    "    f=(5*f[xi]-18*f[xi-1]+24*f[xi-2]-14*f[xi-3]+3*f[xi-4])/2*h**3\n",
    "    \n",
    "#==>Cuarta derivada    \n",
    "    f=(f[xi]-4*f[xi-1]+6*f[xi-2]-4*f[xi-3]+f[xi-4])/h**4\n",
    "    f=(3*f[xi]-14*[xi-1]+26*f[xi-2]-24*f[xi-3]+11*f[xi-4]-2*f[xi-5])/h**4\n",
    "\n"
   ]
  },
  {
   "cell_type": "markdown",
   "metadata": {},
   "source": [
    "7) Desarrolle el ejemplo 23.1"
   ]
  },
  {
   "cell_type": "code",
   "execution_count": 120,
   "metadata": {
    "collapsed": false
   },
   "outputs": [
    {
     "name": "stdout",
     "output_type": "stream",
     "text": [
      "La diferencia hacia adelante de exactitud O(h2) es:  -0.8593750000000009\n",
      "La diferencia centrada de exactitud O(h4) es:        -0.9125000000000002\n",
      "La diferencia hacia atrás de exactitud O(h2) es:     -0.8781250000000003\n"
     ]
    }
   ],
   "source": [
    "#f(x) = –0.1x4 – 0.15x3 – 0.5x2 – 0.25x + 1.2\n",
    "\n",
    "def f(x):\n",
    "    f= -0.1*x**4-0.15*x**3-0.5*x**2-0.25*x+1.2\n",
    "    return f\n",
    "a=0\n",
    "b=0.25\n",
    "h=b-a\n",
    "xi=2\n",
    "\n",
    "f=[f(0),f(0.25),f(0.5),f(0.75),f(1)]\n",
    "\n",
    "f1=(-f[xi+2]+4*f[xi+1]-3*f[xi])/(2*h)\n",
    "f2=(-f[xi+2]+8*f[xi+1]-8*f[xi-1]+f[xi-2])/(12*h)\n",
    "f3=(3*f[xi]-4*f[xi-1]+f[xi-2])/(2*h)\n",
    "\n",
    "print(\"La diferencia hacia adelante de exactitud O(h2) es: \",f1)\n",
    "print(\"La diferencia centrada de exactitud O(h4) es:       \",f2)\n",
    "print(\"La diferencia hacia atrás de exactitud O(h2) es:    \",f3)"
   ]
  }
 ],
 "metadata": {
  "kernelspec": {
   "display_name": "Python 3",
   "language": "python",
   "name": "python3"
  },
  "language_info": {
   "codemirror_mode": {
    "name": "ipython",
    "version": 3
   },
   "file_extension": ".py",
   "mimetype": "text/x-python",
   "name": "python",
   "nbconvert_exporter": "python",
   "pygments_lexer": "ipython3",
   "version": "3.5.1"
  }
 },
 "nbformat": 4,
 "nbformat_minor": 0
}
