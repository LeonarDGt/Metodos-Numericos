{
 "cells": [
  {
   "cell_type": "code",
   "execution_count": 77,
   "metadata": {
    "collapsed": false
   },
   "outputs": [
    {
     "name": "stdout",
     "output_type": "stream",
     "text": [
      "El polinomio de  1  grado para x= 2 es :  0.46209799999999995\n"
     ]
    }
   ],
   "source": [
    "#Seudocódigo para la interpolación de Lagrange. Este algoritmo se establece para calcular\n",
    "#una sola predicción de grado n-ésimo, donde n + 1 es el número de datos.\n",
    "\n",
    "x=2\n",
    "grado=1\n",
    "n=grado+1\n",
    "suma=0\n",
    "producto=0\n",
    "X=[1,4,6]\n",
    "Y=[0,1.386294,1.791760]\n",
    "R=[]\n",
    "\n",
    "for i in range(0,n):\n",
    "    producto=Y[i]\n",
    "    \n",
    "    for j in range(0,n):\n",
    "        if(i!=j):\n",
    "            producto=producto*((x-X[j])/(X[i]-X[j])) \n",
    "    suma=suma+producto\n",
    "print(\"El polinomio de \",i,\" grado para x=\",x,\"es : \",suma)"
   ]
  },
  {
   "cell_type": "code",
   "execution_count": 7,
   "metadata": {
    "collapsed": false
   },
   "outputs": [
    {
     "name": "stdout",
     "output_type": "stream",
     "text": [
      "El polinomio de Primer grado para x= 2 es :  0.462098\n",
      "El polinomio de Segundo grado para x= 2 es :  0.5658439999999999\n"
     ]
    }
   ],
   "source": [
    "#Formulas\n",
    "#Con un polinomio de interpolación de Lagrange de primero y segundo grado evalúe ln 2\n",
    "\n",
    "x=2\n",
    "x_0=1\n",
    "x_1=4\n",
    "x_2=6\n",
    "fx_0=0\n",
    "fx_1=1.386294\n",
    "fx_2=1.791760\n",
    "\n",
    "f1_x=(((x-x_1)/(x_0-x_1))*fx_0)+(((x-x_0)/(x_1-x_0))*fx_1)\n",
    "print(\"El polinomio de Primer grado para x=\",x,\"es : \",round(f1_x,8))\n",
    "\n",
    "f2_x=((((x-x_1)*(x-x_2))/((x_0-x_1)*(x_0-x_2)))*fx_0)+((((x-x_0)*(x-x_2))/((x_1-x_0)*(x_1-x_2)))*fx_1)+((((x-x_0)*(x-x_1))/((x_2-x_0)*(x_2-x_1)))*fx_2)\n",
    "print(\"El polinomio de Segundo grado para x=\",x,\"es : \",f2_x)"
   ]
  },
  {
   "cell_type": "code",
   "execution_count": null,
   "metadata": {
    "collapsed": true
   },
   "outputs": [],
   "source": []
  }
 ],
 "metadata": {
  "kernelspec": {
   "display_name": "Python 3",
   "language": "python",
   "name": "python3"
  },
  "language_info": {
   "codemirror_mode": {
    "name": "ipython",
    "version": 3
   },
   "file_extension": ".py",
   "mimetype": "text/x-python",
   "name": "python",
   "nbconvert_exporter": "python",
   "pygments_lexer": "ipython3",
   "version": "3.5.1"
  }
 },
 "nbformat": 4,
 "nbformat_minor": 0
}
