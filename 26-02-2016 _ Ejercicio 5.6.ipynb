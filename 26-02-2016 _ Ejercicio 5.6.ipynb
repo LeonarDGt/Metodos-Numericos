{
 "cells": [
  {
   "cell_type": "code",
   "execution_count": 17,
   "metadata": {
    "collapsed": false
   },
   "outputs": [
    {
     "data": {
      "image/png": "[encoded data removed]",
      "text/plain": [
       "<matplotlib.figure.Figure at 0x253957745f8>"
      ]
     },
     "metadata": {},
     "output_type": "display_data"
    },
    {
     "name": "stdout",
     "output_type": "stream",
     "text": [
      "Método Bisección\n",
      "\n",
      "   Iteracion            xl                xu               xr               Ea(%)             Et(%)\n",
      "\n",
      "              1 |             0.5 |             2.0 |            1.25 |           100.0 |        53.64728\n",
      "              2 |            1.25 |             2.0 |           1.625 | 23.076923076923 | 64.344061538462\n",
      "              3 |            1.25 |           1.625 |          1.4375 |  13.04347826087 | 59.693286956522\n",
      "\n",
      "\n",
      "Falsa posición\n",
      "\n",
      "   Iteracion             xl               xu               xr                 Ea(%)\n",
      "            Et(%)\n",
      "              1 |             0.5 |             2.0 |  1.628707448233 |           100.0 | 125.461233105418\n",
      "              2 |  1.628707448233 |             2.0 |   1.37958848431 | 18.057483572536 | 130.058891090794\n",
      "              3 |   1.37958848431 |             2.0 |  1.426725122585 |  3.303834601933 | 129.065795045979\n"
     ]
    }
   ],
   "source": [
    "import math\n",
    "import matplotlib.pyplot as L\n",
    "%matplotlib inline\n",
    "\n",
    "i=-10\n",
    "es=0.5*math.pow(10,-1)\n",
    "X,Y=[],[]\n",
    "def funcion(x):\n",
    "    valor=math.log(math.pow(x,2))-0.7\n",
    "    return valor\n",
    "#grafica\n",
    "while 1:\n",
    "    if(i==0):\n",
    "        X.append(i)\n",
    "        Y.append(-9)\n",
    "    else:\n",
    "        X.append(i)\n",
    "        Y.append(funcion(i))\n",
    "    i=i+1\n",
    "    if(i==10):\n",
    "        break\n",
    "    \n",
    "L.axis([-3,3,-6,2])\n",
    "L.plot(X,Y)\n",
    "L.hold(True)\n",
    "L.grid(True)\n",
    "L.title(\"Metodo Grafico\")\n",
    "L.xlabel(\"Tiempo\")\n",
    "L.ylabel(\"Velocidad\")\n",
    "L.show()\n",
    "\n",
    "xl,xu,xr,fxl,fxr,xrant,i=0.5,2.0,0.0,1.0,1.0,0.0,1\n",
    "\n",
    "verd=0.579409\n",
    "print (\"Método Bisección\\n\")\n",
    "print(\"{0:15}  {1:15}  {2:15}  {3:15}  {4:15}  {5:15}\".format(\"   Iteracion\", \"       xl\", \"        xu\",\"        xr\",\"        Ea(%)\",\"         Et(%)\\n\"))\n",
    "\n",
    "for i in range(1,4):\n",
    "    xrant=xr\n",
    "    xr=(xl+xu)/2\n",
    "    fxl=funcion(xl)\n",
    "    fxr=funcion(xr)\n",
    "    ea=math.fabs((xr-xrant)/xr)*100\n",
    "    et=math.fabs((verd-xr)/xr)*100\n",
    "    print(\"{0:15} | {1:15} | {2:15} | {3:15} | {4:15} | {5:15}\".format(i,xl,xu,xr,round(ea,12),round(et,12)));\n",
    "    if((fxl*fxr)<0):\n",
    "        xu=xr\n",
    "    if((fxl*fxr)>0):\n",
    "        xl=xr\n",
    "\n",
    "xl,xu,xr,fxl,fxr,xrant,i=0.5,2.0,0.0,1.0,1.0,0.0,1\n",
    "\n",
    "verd=-0.414689\n",
    "print (\"\\n\\nFalsa posición\\n\")\n",
    "print(\"{0:15}  {1:15}  {2:15}  {3:15}  {4:15}  {5:15}\".format(\"   Iteracion\", \"        xl\", \"        xu\",\"        xr\",\"          Ea(%)\\n\",\"          Et(%)\"))\n",
    "  \n",
    "for i in range(1,4):\n",
    "    xrant=xr\n",
    "    xr=xu-(funcion(xu)*(xl-xu))/(funcion(xl)-funcion(xu))\n",
    "    ea=math.fabs((xr-xrant)/xr)*100\n",
    "    et=math.fabs((verd-xr)/xr)*100\n",
    "    print(\"{0:15} | {1:15} | {2:15} | {3:15} | {4:15} | {5:15}\".format(i,round(xl,12),xu,round(xr,12),round(ea,12),round(et,12)));\n",
    "    if((fxl*fxr)<0):\n",
    "        xu=xr\n",
    "    if((fxl*fxr)>0):\n",
    "        xl=xr"
   ]
  },
  {
   "cell_type": "code",
   "execution_count": null,
   "metadata": {
    "collapsed": true
   },
   "outputs": [],
   "source": []
  }
 ],
 "metadata": {
  "kernelspec": {
   "display_name": "Python 3",
   "language": "python",
   "name": "python3"
  },
  "language_info": {
   "codemirror_mode": {
    "name": "ipython",
    "version": 3
   },
   "file_extension": ".py",
   "mimetype": "text/x-python",
   "name": "python",
   "nbconvert_exporter": "python",
   "pygments_lexer": "ipython3",
   "version": "3.5.1"
  }
 },
 "nbformat": 4,
 "nbformat_minor": 0
}
