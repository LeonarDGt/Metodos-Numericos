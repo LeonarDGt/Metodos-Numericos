{
 "cells": [
  {
   "cell_type": "code",
   "execution_count": 7,
   "metadata": {
    "collapsed": false
   },
   "outputs": [
    {
     "name": "stdout",
     "output_type": "stream",
     "text": [
      "\tTiempo          Velocidad\n",
      "     \n",
      "              0 |               0\n",
      "              2 |            19.6\n",
      "              4 | 32.00469897209985\n",
      "              6 | 39.855543695998584\n",
      "              8 | 44.824286832562976\n",
      "             10 | 47.968968612091984\n",
      "             12 | 49.95921508342386\n",
      "             14 | 51.21882775470732\n",
      "             16 | 52.01602755107027\n",
      "             18 | 52.52056956609587\n",
      "             20 | 52.83989057707389\n",
      "             22 | 53.04198654731108\n",
      "             24 | 53.169891632732856\n",
      "             26 | 53.25084184098071\n",
      "             28 | 53.30207464531966\n",
      "             30 | 53.33449951855033\n",
      "             32 | 53.355020987511296\n",
      "             34 | 53.36800887755854\n",
      "             36 | 53.37622881971767\n",
      "             38 | 53.38143116196522\n",
      "             40 | 53.38472368694127\n",
      "             42 | 53.38680750230792\n",
      "             44 | 53.38812633405978\n",
      "             46 | 53.38896101318615\n",
      "             48 | 53.38948927559946\n"
     ]
    }
   ],
   "source": [
    "g=9.8\n",
    "m=68.1\n",
    "c=12.5\n",
    "x=0\n",
    "t=2\n",
    "print (\"{0:15}  {1:15}\".format(\"\\tTiempo\",\"Velocidad\\n\"));\n",
    "for i in range(0, 50, 2):\n",
    "    if i==0:\n",
    "        print (\"{0:15} | {1:15}\".format(0,0));\n",
    "    else:\n",
    "        v=x+(g-((c*x)/m))*(t)\n",
    "        x=v\n",
    "        print (\"{0:15} | {1:15}\".format(i,v));"
   ]
  }
 ],
 "metadata": {
  "kernelspec": {
   "display_name": "Python 3",
   "language": "python",
   "name": "python3"
  },
  "language_info": {
   "codemirror_mode": {
    "name": "ipython",
    "version": 3
   },
   "file_extension": ".py",
   "mimetype": "text/x-python",
   "name": "python",
   "nbconvert_exporter": "python",
   "pygments_lexer": "ipython3",
   "version": "3.5.1"
  }
 },
 "nbformat": 4,
 "nbformat_minor": 0
}
