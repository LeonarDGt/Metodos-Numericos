{
 "cells": [
  {
   "cell_type": "code",
   "execution_count": 14,
   "metadata": {
    "collapsed": false
   },
   "outputs": [
    {
     "name": "stdout",
     "output_type": "stream",
     "text": [
      "El valor aproximado de la integral es:  6253.493333333333\n"
     ]
    }
   ],
   "source": [
    "a=0\n",
    "b=0.8\n",
    "n=3\n",
    "h=0\n",
    "h=((b-a)/n)\n",
    "\n",
    "fa= 0.2 + 25*a-200*a**2+675*a**3-900*a**4+400*a**5\n",
    "fn= 0.2 + 25*n-200*n**2+675*n**3-900*n**4+400*n**5\n",
    "\n",
    "\n",
    "suma=fa\n",
    "\n",
    "for i in range(1,n,1):\n",
    "    suma=suma + 2*(0.2 + 25*i-200*i**2+675*i**3-900*i**4+400*i**5)\n",
    "suma= suma+fn\n",
    "I=h*(suma/2)\n",
    "\n",
    "print(\"El valor aproximado de la integral es: \",I)"
   ]
  },
  {
   "cell_type": "code",
   "execution_count": null,
   "metadata": {
    "collapsed": true
   },
   "outputs": [],
   "source": []
  }
 ],
 "metadata": {
  "kernelspec": {
   "display_name": "Python 3",
   "language": "python",
   "name": "python3"
  },
  "language_info": {
   "codemirror_mode": {
    "name": "ipython",
    "version": 3
   },
   "file_extension": ".py",
   "mimetype": "text/x-python",
   "name": "python",
   "nbconvert_exporter": "python",
   "pygments_lexer": "ipython3",
   "version": "3.5.1"
  }
 },
 "nbformat": 4,
 "nbformat_minor": 0
}
