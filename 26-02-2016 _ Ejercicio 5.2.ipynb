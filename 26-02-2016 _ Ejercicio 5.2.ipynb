{
 "cells": [
  {
   "cell_type": "code",
   "execution_count": 1,
   "metadata": {
    "collapsed": false
   },
   "outputs": [
    {
     "name": "stdout",
     "output_type": "stream",
     "text": [
      "                     Iteracion             X1               X2                Xr               Ea               Et    \n",
      "      ---       |               0 |               0 |               1  |             0.5 |               0 |         83.6201\n",
      "      +++       |               1 |               0 |             0.5  |            0.25 |          -100.0 |        167.2402\n",
      "      +++       |               2 |            0.25 |             0.5  |           0.375 |         33.3333 |        111.4935\n",
      "      ---       |               3 |           0.375 |             0.5  |          0.4375 |         14.2857 |         95.5659\n",
      "      +++       |               4 |           0.375 |          0.4375  |          0.4062 |         -7.6923 |        102.9171\n",
      "      ---       |               5 |         0.40625 |          0.4375  |          0.4219 |          3.7037 |         99.1053\n",
      "      +++       |               6 |         0.40625 |          0.4219  |          0.4141 |         -1.8868 |        100.9752\n"
     ]
    },
    {
     "data": {
      "image/png": "[encoded data removed]",
      "text/plain": [
       "<matplotlib.figure.Figure at 0x2178e906160>"
      ]
     },
     "metadata": {},
     "output_type": "display_data"
    }
   ],
   "source": [
    "#Metodo Biseccion\n",
    "import math\n",
    "import matplotlib.pyplot as L\n",
    "%matplotlib inline\n",
    "\n",
    "c=4.5\n",
    "b=2.5\n",
    "a=-0.5\n",
    "cx1=0\n",
    "cx2=0\n",
    "fc=0\n",
    "xrb=0\n",
    "x1b=0\n",
    "x2b=1  \n",
    "i=0\n",
    "fx=0\n",
    "ft=0\n",
    "x=[]\n",
    "y=[]\n",
    "k=[]\n",
    "l=[1,0,-1]\n",
    "fu=0\n",
    "Ev=0\n",
    "Ev1=0\n",
    "Et=0\n",
    "Ea=0\n",
    "e2=0\n",
    "e1=0\n",
    "n=10\n",
    "l=[1,0,-1]\n",
    "\n",
    "print (\"{0:15}  {1:15}  {2:15}  {3:15}   {4:15}  {5:15}  {6:15}\".format(\"\",\"    Iteracion\",\"         X1\",\"         X2\",\"         Xr\",\"         Ea\",\"         Et\"));\n",
    "while True:      \n",
    "    e2=e1\n",
    "    xrb=(x1b+x2b)/2\n",
    "    fc=x1b**3+(-5/5)*x1b**2+(6/5)*x1b-(2/5)\n",
    "    fx=xrb**3+(-5/5)*xrb**2+(6/5)*xrb-(2/5)\n",
    "    fu=i**3+(-5/5)*i**2+(6/5)*i-(2/5)\n",
    "    ft=fc*fx\n",
    "    e1=xrb\n",
    "        #print(\"Error verdadero\");\n",
    "    Es=0.01\n",
    "    Ev=0.41810062\n",
    "    Et=(Ev/xrb)*100\n",
    "        #print(\"Error aproximado\");\n",
    "    if e2==0:\n",
    "        Ea=0\n",
    "    else:\n",
    "        Ea=((xrb-e2)/xrb)*100    \n",
    "    if ft>0:\n",
    "       \n",
    "        print (\"{0:15} | {1:15} | {2:15} | {3:15}  | {4:15} | {5:15} | {6:15}\".format(\"      +++\",(i),x1b,round(x2b,4),round(xrb,4),round(Ea,4),round(Et,4)));\n",
    "        x1b=xrb\n",
    "    elif ft<0:\n",
    "        \n",
    "        print (\"{0:15} | {1:15} | {2:15} | {3:15}  | {4:15} | {5:15} | {6:15}\".format(\"      ---\",(i),x1b,round(x2b,4),round(xrb,4),round(Ea,4),round(Et,4)));\n",
    "        x2b=xrb\n",
    "    elif ft==0:\n",
    "        \n",
    "        print (\"{0:15} | {1:15} | {2:15} | {3:15}  | {4:15} | {5:15} | {6:15}\".format(\"      ===\",(i),x1b,round(x2b,4),round(xrb,4),round(Ea,4),round(Et,4)));\n",
    "        break\n",
    "        \n",
    "    if i>5:\n",
    "        break \n",
    "    \n",
    "    x.append(i)\n",
    "    y.append(fu)\n",
    "    i=i+1\n",
    "    \n",
    "xl=[Ev,Ev,Ev]\n",
    "\n",
    "xl1=[Ev1,Ev1,Ev1]\n",
    "L.plot(xl,l,'k',linewidth=2,label='xr raiz 1')\n",
    "L.hold(True)\n",
    "L.grid(True)\n",
    "L.plot(x,y,'r',linewidth=2,label='analitico')\n",
    "L.legend(loc = 2)\n",
    "L.show()"
   ]
  }
 ],
 "metadata": {
  "kernelspec": {
   "display_name": "Python 3",
   "language": "python",
   "name": "python3"
  },
  "language_info": {
   "codemirror_mode": {
    "name": "ipython",
    "version": 3
   },
   "file_extension": ".py",
   "mimetype": "text/x-python",
   "name": "python",
   "nbconvert_exporter": "python",
   "pygments_lexer": "ipython3",
   "version": "3.5.1"
  }
 },
 "nbformat": 4,
 "nbformat_minor": 0
}
