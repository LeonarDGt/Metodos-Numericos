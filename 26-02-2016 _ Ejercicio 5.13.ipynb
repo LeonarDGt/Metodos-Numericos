{
 "cells": [
  {
   "cell_type": "code",
   "execution_count": 16,
   "metadata": {
    "collapsed": false
   },
   "outputs": [
    {
     "name": "stdout",
     "output_type": "stream",
     "text": [
      "Falsa posición\n",
      "\n",
      "   Iteracion            xl                xu               xr               Ea(%)             Et(%)\n",
      "\n",
      "            1.0 |            55.0 |            60.0 | 59.844079921362 |           100.0 |  0.005146576513\n",
      "            2.0 | 59.844079921362 |            60.0 | 59.838870885457 |  0.008705103936 |  0.003558079408\n"
     ]
    }
   ],
   "source": [
    "import math\n",
    "import matplotlib.pyplot as L\n",
    "%matplotlib inline\n",
    "\n",
    "datos=[]\n",
    "def func(x):\n",
    "    valor=x*(1-math.exp(-135/x))-53.57\n",
    "    return valor\n",
    "\n",
    "xl,xu,xr,fxl,fxr,xrant,i=55.0,60.0,0.0,1.0,1.0,0.0,1.0\n",
    "es=0.1\n",
    "verd=59.841\n",
    "print (\"Falsa posición\\n\")\n",
    "print(\"{0:15}  {1:15}  {2:15}  {3:15}  {4:15}  {5:15}\".format(\"   Iteracion\", \"       xl\", \"        xu\",\"        xr\",\"        Ea(%)\",\"         Et(%)\\n\"))\n",
    "\n",
    "while True:\n",
    "    xrant=xr\n",
    "    xr=xu-(func(xu)*(xl-xu))/(func(xl)-func(xu))\n",
    "    ea=math.fabs((xr-xrant)/xr)*100\n",
    "    et=math.fabs((verd-xr)/xr)*100\n",
    "    print(\"{0:15} | {1:15} | {2:15} | {3:15} | {4:15} | {5:15}\".format(i,round(xl,12),xu,round(xr,12),round(ea,12),round(et,12)));\n",
    "    if((fxl*fxr)<0):\n",
    "        xu=xr\n",
    "    if((fxl*fxr)>0):\n",
    "        xl=xr\n",
    "    i+=1\n",
    "    if(ea<=es):\n",
    "        break\n",
    "\n",
    "    \n"
   ]
  }
 ],
 "metadata": {
  "kernelspec": {
   "display_name": "Python 3",
   "language": "python",
   "name": "python3"
  },
  "language_info": {
   "codemirror_mode": {
    "name": "ipython",
    "version": 3
   },
   "file_extension": ".py",
   "mimetype": "text/x-python",
   "name": "python",
   "nbconvert_exporter": "python",
   "pygments_lexer": "ipython3",
   "version": "3.5.1"
  }
 },
 "nbformat": 4,
 "nbformat_minor": 0
}
