{
 "cells": [
  {
   "cell_type": "code",
   "execution_count": 7,
   "metadata": {
    "collapsed": false
   },
   "outputs": [
    {
     "name": "stdout",
     "output_type": "stream",
     "text": [
      "Iteracion        Valor Secante\n",
      "\n",
      "         0 |   0.6126998367802821\n",
      "         1 |   0.5638383891610742\n",
      "         2 |   0.5671703584197446\n",
      "         3 |   0.5671433066049633\n",
      "         4 |   0.5671432904097046\n",
      "         5 |   0.5671432904097838\n",
      "         6 |   0.5671432904097838\n",
      "         7 |   0.5671432904097838  => Esta es la raiz  \n"
     ]
    }
   ],
   "source": [
    "import math\n",
    "i=0\n",
    "xf=0\n",
    "xo=0\n",
    "xmasuno=1\n",
    "xf0=math.exp(-xo)-xo\n",
    "xf1=math.exp(-xmasuno)-xmasuno\n",
    "print (\"{0:10}  {1:15}\".format(\"Iteracion\",\"     Valor Secante\\n\"));\n",
    "while True:\n",
    "    if xf0-xf1==0:\n",
    "        print (\"{0:10} | {1:20}  {2:20}\".format(i,xf,\"=> Esta es la raiz\"));\n",
    "        break\n",
    "    else:    \n",
    "        xf=xmasuno-(xf1*(xo-xmasuno))/(xf0-xf1)\n",
    "    xo=xmasuno\n",
    "    xmasuno=xf\n",
    "    xf0=xf1\n",
    "    xf1=math.exp(-xmasuno)-xmasuno\n",
    "    print (\"{0:10} | {1:20}\".format(i,xf));\n",
    "    if i==100:\n",
    "        break\n",
    "    i=i+1"
   ]
  }
 ],
 "metadata": {
  "kernelspec": {
   "display_name": "Python 3",
   "language": "python",
   "name": "python3"
  },
  "language_info": {
   "codemirror_mode": {
    "name": "ipython",
    "version": 3
   },
   "file_extension": ".py",
   "mimetype": "text/x-python",
   "name": "python",
   "nbconvert_exporter": "python",
   "pygments_lexer": "ipython3",
   "version": "3.5.1"
  }
 },
 "nbformat": 4,
 "nbformat_minor": 0
}
