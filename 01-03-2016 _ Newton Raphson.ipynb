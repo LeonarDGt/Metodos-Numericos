{
 "cells": [
  {
   "cell_type": "code",
   "execution_count": 5,
   "metadata": {
    "collapsed": false
   },
   "outputs": [
    {
     "name": "stdout",
     "output_type": "stream",
     "text": [
      "Iteracion   Valor Newton Raphson\n",
      "\n",
      "         0 |                    0\n",
      "         1 |                  0.5\n",
      "         2 |   0.5663110031972182\n",
      "         3 |   0.5671431650348622\n",
      "         4 |   0.5671432904097811\n",
      "         5 |    0.567143290409784\n",
      "         6 |   0.5671432904097838\n",
      "         7 |   0.5671432904097838  => Esta es la raiz  \n"
     ]
    }
   ],
   "source": [
    "import math\n",
    "xo=0\n",
    "i=0\n",
    "xf=0\n",
    "print (\"{0:10}  {1:15}\".format(\"Iteracion\",\"Valor Newton Raphson\\n\"));\n",
    "while True:\n",
    "    if i==0:\n",
    "        xf=0\n",
    "    else:\n",
    "        xf=xo-(math.exp(-xo)-xo)/(-math.exp(-xo)-1)  \n",
    "        if xf==xo:\n",
    "            print (\"{0:10} | {1:20}  {2:20}\".format(i,xf,\"=> Esta es la raiz\"));\n",
    "            break\n",
    "    xo=xf\n",
    "    print (\"{0:10} | {1:20}\".format(i,xf));\n",
    "    if i==100:\n",
    "        break\n",
    "    i=i+1"
   ]
  }
 ],
 "metadata": {
  "kernelspec": {
   "display_name": "Python 3",
   "language": "python",
   "name": "python3"
  },
  "language_info": {
   "codemirror_mode": {
    "name": "ipython",
    "version": 3
   },
   "file_extension": ".py",
   "mimetype": "text/x-python",
   "name": "python",
   "nbconvert_exporter": "python",
   "pygments_lexer": "ipython3",
   "version": "3.5.1"
  }
 },
 "nbformat": 4,
 "nbformat_minor": 0
}
