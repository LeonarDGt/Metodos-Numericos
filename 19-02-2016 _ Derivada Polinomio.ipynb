{
 "cells": [
  {
   "cell_type": "code",
   "execution_count": 9,
   "metadata": {
    "collapsed": false
   },
   "outputs": [
    {
     "name": "stdout",
     "output_type": "stream",
     "text": [
      "Orden           | f(1)            | F(x+i)          | Ev              | Et\n",
      "            \n",
      "              0 |             1.2 |             1.2 |            -1.0 | -500.000000000000%\n",
      "              1 |           -0.25 |            0.95 |           -0.75 | -375.000000000000%\n",
      "              2 |            -1.0 |            0.45 |           -0.25 | -125.000000000000%\n",
      "              3 |            -0.9 |             0.3 |            -0.1 | -50.0000000000000%\n",
      "              4 |            -2.4 |             0.2 |             0.0 | 4.16333634234434e-14%\n"
     ]
    }
   ],
   "source": [
    "from sympy import *\n",
    "import math\n",
    "tabla, f=[],[]\n",
    "x=Symbol('x')\n",
    "h, aprox=1,0\n",
    "f.append(-0.1*(pow(x,4))-0.15*(pow(x,3))-0.5*(pow(x,2))-0.25*x+1.2)\n",
    "val=f[0].subs(x,1).evalf()\n",
    "f.append(-4*0.1*(pow(x,3))-0.15*3*(pow(x,2))-0.5*2*x-0.25)\n",
    "f.append(-0.1*4*3*(pow(x,2))-0.15*3*2*x-0.5*2)\n",
    "f.append(-0.1*4*3*2*x-0.15*3*2)\n",
    "f.append(-0.1*4*3*2)\n",
    "\n",
    "print (\"{0:15} | {1:15} | {2:15} | {3:15} | {4:15}\".format(\"Orden\", \"f(1)\", \"F(x+i)\",\"Ev\",\"Et\\n\"));\n",
    "\n",
    "for i in range(5):\n",
    "    if(i<=3):\n",
    "        res=f[i].subs(x,0).evalf()\n",
    "        ap=(res*math.pow(h,i))/math.factorial(i)\n",
    "    else:\n",
    "        res=f[i]\n",
    "        ap=(res*math.pow(h,i))/math.factorial(i)\n",
    "    aprox=aprox+ap\n",
    "    Ev=val-aprox\n",
    "    et=(Ev/val)*100\n",
    "    print(\"{0:15} | {1:15} | {2:15} | {3:15} | {4:15}\".format(i,round(res,3),round(aprox,3),round(Ev,3),str(et)+\"%\"));\n",
    "     "
   ]
  }
 ],
 "metadata": {
  "kernelspec": {
   "display_name": "Python 3",
   "language": "python",
   "name": "python3"
  },
  "language_info": {
   "codemirror_mode": {
    "name": "ipython",
    "version": 3
   },
   "file_extension": ".py",
   "mimetype": "text/x-python",
   "name": "python",
   "nbconvert_exporter": "python",
   "pygments_lexer": "ipython3",
   "version": "3.5.1"
  }
 },
 "nbformat": 4,
 "nbformat_minor": 0
}
