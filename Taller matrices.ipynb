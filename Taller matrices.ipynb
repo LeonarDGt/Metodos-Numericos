{
 "cells": [
  {
   "cell_type": "markdown",
   "metadata": {
    "collapsed": true
   },
   "source": [
    "9.1) \n",
    "a) escriba en forma matricial el conjunto siguiente de ecuaciones\n",
    "50=5x3+2x2\n",
    "10-x1=x3\n",
    "3x2+8x1=20\n",
    "b)escriba la transpuesta de la matriz de coeficientes "
   ]
  },
  {
   "cell_type": "code",
   "execution_count": 2,
   "metadata": {
    "collapsed": false
   },
   "outputs": [
    {
     "name": "stdout",
     "output_type": "stream",
     "text": [
      "a\n",
      "\n",
      "    | 0 2  5  50|\n",
      "[a]=|-1 0 -1 -10|\n",
      "    | 8 3  0  20|\n"
     ]
    }
   ],
   "source": [
    "print(\"a\")\n",
    "print(\"\")\n",
    "print(\"    | 0 2  5  50|\")\n",
    "print(\"[a]=|-1 0 -1 -10|\")\n",
    "print(\"    | 8 3  0  20|\")\n",
    "\n",
    "\n"
   ]
  },
  {
   "cell_type": "code",
   "execution_count": 6,
   "metadata": {
    "collapsed": false
   },
   "outputs": [
    {
     "name": "stdout",
     "output_type": "stream",
     "text": [
      "b\n",
      "0 -1 8\n",
      "2 0 3\n",
      "5 -1 0\n",
      "50 -10 20\n"
     ]
    }
   ],
   "source": [
    "print(\"b\")\n",
    "\n",
    "a=[0,2,5,50],[-1,0,-1,-10],[8,3,0,20]\n",
    "\n",
    "a1=[0,0,0],[0,0,0],[0,0,0],[0,0,0]\n",
    "\n",
    "for x in range(0,3):\n",
    "    for y in range (0,4):\n",
    "        a1[y][x]=a[x][y];\n",
    "        \n",
    "for x in range(0,4):\n",
    "        print (a1[x][0],a1[x][1],a1[x][2]);\n",
    "    \n",
    "    \n",
    "    \n",
    "\n"
   ]
  },
  {
   "cell_type": "markdown",
   "metadata": {
    "collapsed": true
   },
   "source": [
    "9.2)\n",
    "ciertas matrices estan definidas como sigue\n",
    "\n",
    "     |4 7|\n",
    "[a]= |1 2|\n",
    "     |5 6|\n",
    "\n",
    "     |4 3 7|\n",
    "[b]= |1 2 7|\n",
    "     |1 0 4|\n",
    "    \n",
    "    \n",
    "    \n",
    "     |3|\n",
    "[c]= |6|\n",
    "     |1|\n",
    "    \n",
    "    \n",
    "     |9  4  3 -6|\n",
    "[d]= |2 -1  7  5|\n",
    "\n",
    "\n",
    "\n",
    "\n",
    "     |1 5 8|\n",
    "[e]= |7 2 3|\n",
    "     |4 0 6|\n",
    "    \n",
    "    \n",
    "    \n",
    "     |3 0 1|\n",
    "[f]= |1 7 3|\n",
    "\n",
    "\n",
    "     \n",
    "[g]= |7 6 4|\n",
    "     \n",
    "a) ¿cuales son las dimenciones de las matrices?\n",
    "b)¿identifique las matrices cuadrada, columna y region?\n",
    "c)¿cuales son los valores de los elementos a12, b23,d32,e22,f12,g12?\n",
    "d)ejecute la operaciones siguientes\n",
    "\n",
    "\n",
    "1)e+b\n",
    "2)a+f\n",
    "3)b+e\n",
    "4)7*b\n",
    "5)e*b\n",
    "6)c^t\n",
    "7)b*a\n",
    "8)d^t\n",
    "9)a*c\n",
    "10)i*b\n",
    "11)e^e*e\n",
    "12)c^c*c"
   ]
  },
  {
   "cell_type": "code",
   "execution_count": null,
   "metadata": {
    "collapsed": true
   },
   "outputs": [],
   "source": [
    "a)\n",
    "     |4 7|\n",
    "[a]= |1 2| =3*2\n",
    "     |5 6|\n",
    "\n",
    "     |4 3 7|\n",
    "[b]= |1 2 7|=3*3\n",
    "     |1 0 4|\n",
    "    \n",
    "    \n",
    "    \n",
    "     |3|\n",
    "[c]= |6|=3*1\n",
    "     |1|\n",
    "    \n",
    "    \n",
    "     |9  4  3 -6|\n",
    "[d]= |2 -1  7  5|=2*4\n",
    "\n",
    "\n",
    "\n",
    "\n",
    "     |1 5 8|\n",
    "[e]= |7 2 3|=3*3\n",
    "     |4 0 6|\n",
    "    \n",
    "    \n",
    "    \n",
    "     |3 0 1|\n",
    "[f]= |1 7 3|=2*3\n",
    "\n",
    "\n",
    "     \n",
    "[g]= |7 6 4|=1*3"
   ]
  },
  {
   "cell_type": "code",
   "execution_count": null,
   "metadata": {
    "collapsed": true
   },
   "outputs": [],
   "source": [
    "b)cuabradas\n",
    "     |4 3 7|\n",
    "[b]= |1 2 7|\n",
    "     |1 0 4|\n",
    "\n",
    "     |1 5 8|\n",
    "[e]= |7 2 3|\n",
    "     |4 0 6|\n",
    "\n",
    "columna\n",
    "     |3|\n",
    "[c]= |6|\n",
    "     |1|\n",
    "    \n",
    "\n",
    "renglon\n",
    "\n",
    "\n",
    "[g]= |7 6 4|   \n"
   ]
  },
  {
   "cell_type": "markdown",
   "metadata": {
    "collapsed": true
   },
   "source": [
    "c)¿cuales son los valores de los elementos a12, b23,d32,e22,f12,g12?\n",
    "a12=7\n",
    "b23=7\n",
    "d32=no hay\n",
    "e22=2\n",
    "f12=0\n",
    "g12=6\n"
   ]
  },
  {
   "cell_type": "markdown",
   "metadata": {
    "collapsed": true
   },
   "source": [
    "d)ejecute la operaciones siguientes\n",
    "\n"
   ]
  },
  {
   "cell_type": "code",
   "execution_count": 37,
   "metadata": {
    "collapsed": false
   },
   "outputs": [
    {
     "name": "stdout",
     "output_type": "stream",
     "text": [
      "b= \n",
      " [[4 3 7]\n",
      " [1 2 7]\n",
      " [1 0 4]]\n",
      "e= \n",
      " [[1 5 8]\n",
      " [7 2 3]\n",
      " [4 0 6]]\n",
      "b*e =\n",
      "[[ 4 15 56]\n",
      " [ 7  4 21]\n",
      " [ 4  0 24]]\n"
     ]
    }
   ],
   "source": [
    "#1)e+b\n",
    "#     |4 3 7|\n",
    "#[b]= |1 2 7|\n",
    "#     |1 0 4|\n",
    "\n",
    "#     |1 5 8|\n",
    "#[e]= |7 2 3|\n",
    "#     |4 0 6|\n",
    "import numpy as np\n",
    "b=np.array([(4,3,7),(1,2,7),(1,0,4)])\n",
    "e=np.array([(1,5,8),(7,2,3),(4,0,6)])\n",
    "\n",
    "\n",
    "print (\"b= \\n\", b)\n",
    "print (\"e= \\n\", e)\n",
    "\n",
    "print (\"b*e =\")\n",
    "print (b*e)\n",
    "  "
   ]
  },
  {
   "cell_type": "code",
   "execution_count": 41,
   "metadata": {
    "collapsed": false
   },
   "outputs": [
    {
     "name": "stdout",
     "output_type": "stream",
     "text": [
      "a= \n",
      " [[4 7]\n",
      " [1 2]\n",
      " [5 6]]\n",
      "f= \n",
      " [[3 0 1]\n",
      " [1 7 3]]\n",
      "a+f =\n",
      "[[19 49 25]\n",
      " [ 5 14  7]\n",
      " [21 42 23]]\n"
     ]
    }
   ],
   "source": [
    "#2)a+f\n",
    "#     |4 7|\n",
    "#[a]= |1 2| \n",
    "#     |5 6|   \n",
    "    \n",
    "#     |3 0 1|\n",
    "#[f]= |1 7 3|\n",
    "\n",
    "from numpy import matrix \n",
    "a=matrix([[4,7],[1,2],[5,6]])\n",
    "f=matrix([[3,0,1],[1,7,3]])\n",
    "\n",
    "\n",
    "print (\"a= \\n\", a)\n",
    "print (\"f= \\n\", f)\n",
    "\n",
    "print (\"a+f =\")\n",
    "print (a+f)\n"
   ]
  },
  {
   "cell_type": "code",
   "execution_count": 53,
   "metadata": {
    "collapsed": false
   },
   "outputs": [
    {
     "name": "stdout",
     "output_type": "stream",
     "text": [
      "b= \n",
      " [[4 3 7]\n",
      " [1 2 7]\n",
      " [1 0 4]]\n",
      "e= \n",
      " [[1 5 8]\n",
      " [7 2 3]\n",
      " [4 0 6]]\n",
      "b-e =\n",
      "[[ 3 -2 -1]\n",
      " [-6  0  4]\n",
      " [-3  0 -2]]\n"
     ]
    }
   ],
   "source": [
    "#3)b-e\n",
    "\n",
    "#     |4 3 7|\n",
    "#[b]= |1 2 7|\n",
    "#     |1 0 4|\n",
    "\n",
    "#     |1 5 8|\n",
    "#[e]= |7 2 3|=3*3\n",
    "#     |4 0 6|\n",
    "from numpy import matrix \n",
    "b=matrix([[4,3,7],[1,2,7],[1,0,4]])\n",
    "e=matrix([[1,5,8],[7,2,3],[4,0,6]])\n",
    "\n",
    "\n",
    "print (\"b= \\n\", b)\n",
    "print (\"e= \\n\", e)\n",
    "\n",
    "print (\"b-e =\")\n",
    "print (b-e)\n"
   ]
  },
  {
   "cell_type": "code",
   "execution_count": 44,
   "metadata": {
    "collapsed": false
   },
   "outputs": [
    {
     "name": "stdout",
     "output_type": "stream",
     "text": [
      "b= \n",
      " [[4 3 7]\n",
      " [1 2 7]\n",
      " [1 0 4]]\n",
      "7*b =\n",
      "[[28 21 49]\n",
      " [ 7 14 49]\n",
      " [ 7  0 28]]\n"
     ]
    }
   ],
   "source": [
    "#4)7*b\n",
    "#     |4 3 7|\n",
    "#[b]= |1 2 7|\n",
    "#     |1 0 4|\n",
    "from numpy import matrix \n",
    "\n",
    "b=matrix([[4,3,7],[1,2,7],[1,0,4]])\n",
    "\n",
    "\n",
    "print (\"b= \\n\", b)\n",
    "\n",
    "\n",
    "print (\"7*b =\")\n",
    "print (7*b)\n",
    "    "
   ]
  },
  {
   "cell_type": "code",
   "execution_count": 47,
   "metadata": {
    "collapsed": false
   },
   "outputs": [
    {
     "name": "stdout",
     "output_type": "stream",
     "text": [
      "b= \n",
      " [[4 3 7]\n",
      " [1 2 7]\n",
      " [1 0 4]]\n",
      "e= \n",
      " [[1 5 8]\n",
      " [7 2 3]\n",
      " [4 0 6]]\n",
      "e*b =\n",
      "[[17 13 74]\n",
      " [33 25 75]\n",
      " [22 12 52]]\n"
     ]
    }
   ],
   "source": [
    "#5)e*b\n",
    "#     |4 3 7|\n",
    "#[b]= |1 2 7|\n",
    "#     |1 0 4|\n",
    "\n",
    "\n",
    "\n",
    "#     |1 5 8|\n",
    "#[e]= |7 2 3|\n",
    "#     |4 0 6|\n",
    "    \n",
    "from numpy import matrix \n",
    "\n",
    "b=matrix([[4,3,7],[1,2,7],[1,0,4]])\n",
    "e=matrix([[1,5,8],[7,2,3],[4,0,6]])\n",
    "\n",
    "print (\"b= \\n\", b)\n",
    "print (\"e= \\n\", e)\n",
    "\n",
    "print (\"e*b =\")\n",
    "print (e*b)\n",
    "    "
   ]
  },
  {
   "cell_type": "code",
   "execution_count": 11,
   "metadata": {
    "collapsed": false
   },
   "outputs": [
    {
     "name": "stdout",
     "output_type": "stream",
     "text": [
      "[3, 6, 1]\n"
     ]
    }
   ],
   "source": [
    "#6)c^t\n",
    "#     |3|\n",
    "#[c]= |6|=3*1\n",
    "#     |1|\n",
    "from numpy import matrix \n",
    "M1=[[3],[6],[1]]\n",
    "M2=[[0,0,0]]\n",
    "for i in range(3):\n",
    "    for j in range(1):\n",
    "        M2[j][i] = M1[i][j]\n",
    " \n",
    " \n",
    "for i in range(1):\n",
    "    print(M2[i])\n"
   ]
  },
  {
   "cell_type": "code",
   "execution_count": 49,
   "metadata": {
    "collapsed": false
   },
   "outputs": [
    {
     "name": "stdout",
     "output_type": "stream",
     "text": [
      "b= \n",
      " [[4 3 7]\n",
      " [1 2 7]\n",
      " [1 0 4]]\n",
      "a= \n",
      " [[4 7]\n",
      " [1 2]\n",
      " [5 6]]\n",
      "b *a=\n",
      "[[54 76]\n",
      " [41 53]\n",
      " [24 31]]\n"
     ]
    }
   ],
   "source": [
    "#7)b*a\n",
    "#     |4 7|\n",
    "#[a]= |1 2| =3*2\n",
    "#     |5 6|\n",
    "\n",
    "#     |4 3 7|\n",
    "#[b]= |1 2 7|=3*3\n",
    "#     |1 0 4|\n",
    "from numpy import matrix \n",
    "\n",
    "b=matrix([[4,3,7],[1,2,7],[1,0,4]])\n",
    "a=matrix([[4,7],[1,2],[5,6]])\n",
    "\n",
    "print (\"b= \\n\", b)\n",
    "print (\"a= \\n\", a)\n",
    "\n",
    "print (\"b *a=\")\n",
    "print (b*a)\n",
    "    \n",
    "\n"
   ]
  },
  {
   "cell_type": "code",
   "execution_count": 13,
   "metadata": {
    "collapsed": false
   },
   "outputs": [
    {
     "name": "stdout",
     "output_type": "stream",
     "text": [
      "[9, 2]\n",
      "[4, -1]\n",
      "[3, 7]\n",
      "[-6, 5]\n"
     ]
    }
   ],
   "source": [
    "#8)d^t\n",
    "    \n",
    "#     |9  4  3 -6|\n",
    "#[d]= |2 -1  7  5|=2*4\n",
    "\n",
    "from numpy import matrix \n",
    "M1=[[9,4,3,-6],[2,-1,7,5]]\n",
    "M2=[[0,0],[0,0],[0,0],[0,0]]\n",
    "for i in range(2):\n",
    "    for j in range(4):\n",
    "        M2[j][i] = M1[i][j]\n",
    " \n",
    " \n",
    "for i in range(4):\n",
    "    print(M2[i])"
   ]
  },
  {
   "cell_type": "code",
   "execution_count": 24,
   "metadata": {
    "collapsed": false
   },
   "outputs": [
    {
     "name": "stdout",
     "output_type": "stream",
     "text": [
      "[[1 3 7]\n",
      " [1 1 7]\n",
      " [1 0 1]]\n"
     ]
    }
   ],
   "source": [
    "#10)i*b\n",
    "\n",
    "#     |4 3 7|\n",
    "#[b]= |1 2 7|=3*3\n",
    "#     |1 0 4|\n",
    "from numpy import matrix \n",
    "M1=matrix([[4,3,7],[1,2,7],[1,0,4]])\n",
    "M2=matrix([[0,0,0],[0,0,0],[0,0,0]])\n",
    "for i in range(3):\n",
    "     M1[(i),(i)]=1\n",
    "print (M1)"
   ]
  },
  {
   "cell_type": "code",
   "execution_count": 22,
   "metadata": {
    "collapsed": false
   },
   "outputs": [
    {
     "name": "stdout",
     "output_type": "stream",
     "text": [
      "[[ 66  19  53]\n",
      " [ 19  29  46]\n",
      " [ 53  46 109]]\n"
     ]
    }
   ],
   "source": [
    "#11)e^t*e\n",
    "#     |1 5 8|\n",
    "#[e]= |7 2 3|=3*3\n",
    "#     |4 0 6|\n",
    "\n",
    "\n",
    "from numpy import matrix \n",
    "M1=matrix([[1,5,8],[7,2,3],[4,0,6]])\n",
    "M2=matrix([[0,0,0],[0,0,0],[0,0,0]])\n",
    "for i in range(3):\n",
    "    for j in range(3):\n",
    "        \n",
    "        M2[(j),(i)] = M1[(i),(j)]\n",
    "print (M2*M1)\n"
   ]
  },
  {
   "cell_type": "code",
   "execution_count": 23,
   "metadata": {
    "collapsed": false
   },
   "outputs": [
    {
     "name": "stdout",
     "output_type": "stream",
     "text": [
      "[[46]]\n"
     ]
    }
   ],
   "source": [
    "#12)c^t*c\n",
    "#     |3|\n",
    "#[c]= |6|=3*1\n",
    "#     |1|\n",
    "    \n",
    "\n",
    "from numpy import matrix \n",
    "M1=matrix([[3],[6],[1]])\n",
    "M2=matrix([[0,0,0]])\n",
    "for i in range(3):\n",
    "    for j in range(1):\n",
    "        M2[(j),(i)] = M1[(i),(j)]\n",
    "print (M2*M1)\n",
    "    \n",
    "    "
   ]
  },
  {
   "cell_type": "markdown",
   "metadata": {
    "collapsed": true
   },
   "source": [
    " 9.3)Se definen tres matrices como sigue\n",
    "      |1  6|\n",
    "    a=|3 10|\n",
    "      |7  4|\n",
    "            \n",
    "      | 1  3|\n",
    "    b=|0.5 2|\n",
    "      \n",
    "      | 2  -2|\n",
    "    c=|-3   1|\n",
    "      \n",
    " a) Ejecute todas las multiplicaciones que sea posible calcular entre parejas de las matrices.\n",
    "b) Utilice el método del recuadro PT3.2 para justificar por qué no se puede multiplicar a las demás parejas. \n",
    "c) Emplee los resultado del inciso a) para ilustrar por qué es importante el orden de la multiplicación."
   ]
  },
  {
   "cell_type": "code",
   "execution_count": 57,
   "metadata": {
    "collapsed": false
   },
   "outputs": [
    {
     "name": "stdout",
     "output_type": "stream",
     "text": [
      "a= \n",
      " [[ 1  6]\n",
      " [ 3 10]\n",
      " [ 7  4]]\n",
      "b= \n",
      " [[ 1.   3. ]\n",
      " [ 0.5  2. ]]\n",
      "c= \n",
      " [[ 2 -2]\n",
      " [-3  1]]\n",
      "a*b=\n",
      "[[  4.  15.]\n",
      " [  8.  29.]\n",
      " [  9.  29.]]\n",
      "a*c=\n",
      "[[-16   4]\n",
      " [-24   4]\n",
      " [  2 -10]]\n",
      "b*c=\n",
      "[[-7.  1.]\n",
      " [-5.  1.]]\n"
     ]
    }
   ],
   "source": [
    "#a) Ejecute todas las multiplicaciones que sea posible calcular entre parejas de las matrices.\n",
    "\n",
    "\n",
    "\n",
    "a=matrix([[1,6],[3,10],[7,4]])\n",
    "b=matrix([[1,3],[0.5,2]])\n",
    "c=matrix([[2,-2],[-3,1]])\n",
    "\n",
    "\n",
    "print (\"a= \\n\", a)\n",
    "print (\"b= \\n\", b)\n",
    "print (\"c= \\n\", c)\n",
    "\n",
    "print (\"a*b=\")\n",
    "print (a * b)\n",
    "print (\"a*c=\")\n",
    "print (a * c)\n",
    "print (\"b*c=\")\n",
    "print (b * c)\n"
   ]
  },
  {
   "cell_type": "markdown",
   "metadata": {
    "collapsed": true
   },
   "source": [
    "#b) Utilice el método del recuadro PT3.2 para justificar por qué no se puede multiplicar a las demás parejas.\n",
    "\n",
    "podemos ver que el metodo pt3.2 de la pagina 263 muestra que para multiplicar dos matrices se toma la columnapor la fila \n",
    "Observe cómo este método simple explica el porqué es imposible multiplicar dos matrices si el número de columnas de la \n",
    "primera matriz no es igual al número de renglones en la segunda matriz. \n",
    "Note también la importancia del orden en la multiplicación (es decir, la multiplicación de matrices no es conmutativa\n",
    " "
   ]
  },
  {
   "cell_type": "code",
   "execution_count": null,
   "metadata": {
    "collapsed": true
   },
   "outputs": [],
   "source": [
    "#c) Emplee los resultado del inciso a) para ilustrar por qué es importante el orden de la multiplicación.\n",
    "\n",
    "a=matrix([[1,6],[3,10],[7,4]])\n",
    "b=matrix([[1,3],[0.5,2]])\n",
    "c=matrix([[2,-2],[-3,1]])\n",
    "\n",
    "\n",
    "print (\"a= \\n\", a)\n",
    "print (\"b= \\n\", b)\n",
    "print (\"c= \\n\", c)\n",
    "\n",
    "\n",
    "print (\"b*a=\")\n",
    "print (b*a)\n",
    "print (\"c*a=\")\n",
    "print (c*a)\n",
    "print (\"c*b=\")\n",
    "print (c*b)\n",
    "# se guenera error"
   ]
  },
  {
   "cell_type": "markdown",
   "metadata": {
    "collapsed": true
   },
   "source": [
    "9.4 Use el método gráfico para resolver el sistema siguiente\n",
    "4x1 – 8x2 = –24 \n",
    "x1 + 6x2 = 34\n",
    "Compruebe el resultado por medio de sustituirlo en las ecuaciones."
   ]
  },
  {
   "cell_type": "code",
   "execution_count": 3,
   "metadata": {
    "collapsed": false
   },
   "outputs": [
    {
     "name": "stdout",
     "output_type": "stream",
     "text": [
      "x2=(-24-4x1)/-8\n",
      "0 0.0\n"
     ]
    },
    {
     "data": {
      "image/png": "[encoded data removed]",
      "text/plain": [
       "<matplotlib.figure.Figure at 0x1a3f3e436a0>"
      ]
     },
     "metadata": {},
     "output_type": "display_data"
    },
    {
     "name": "stdout",
     "output_type": "stream",
     "text": [
      "se comprueva los valore de x1=  4 x2=  5\n",
      "4x1 – 8x2 = -24\n",
      "x1 + 6x2 = 34\n"
     ]
    }
   ],
   "source": [
    "#x2=(-24-4x1)/-8\n",
    "#x2=(34-x1)/6\n",
    "\n",
    "from numpy import *\n",
    "import matplotlib.pyplot as plt\n",
    "%matplotlib inline\n",
    "x2=0;\n",
    "y2=0;\n",
    "x=[]\n",
    "z=[]\n",
    "y=[]\n",
    "p=[]\n",
    "print(\"x2=(-24-4x1)/-8\");\n",
    "for i in range (6):\n",
    "    x2=(-24-4*i)/-8\n",
    "    x.append(i)\n",
    "    y.append(x2)\n",
    "    #print(i,x2);\n",
    "#print(\"x2=(34-x1)/6\");\n",
    "print(0, 0.0)\n",
    "for i in range(6):\n",
    "    x2=(34-i)/6\n",
    "    z.append(i)\n",
    "    p.append(x2)\n",
    "    #print(i,x2);\n",
    "plt.plot(x,y,'r',linewidth=2,label='x2=(-24-4x1)/-8')\n",
    "plt.hold(True)\n",
    "plt.plot(z,p,'k--',linewidth=2,label='x2=(34-x1)/6')\n",
    "plt.legend(loc = 2)\n",
    "plt.show()\n",
    "\n",
    "x1=4\n",
    "x2=5\n",
    "print(\"se comprueva los valore de x1= \",x1,\"x2= \",x2)\n",
    "print(\"4x1 – 8x2 =\",4*x1-8*x2);\n",
    "print(\"x1 + 6x2 =\",x1+6*x2);"
   ]
  },
  {
   "cell_type": "markdown",
   "metadata": {
    "collapsed": false
   },
   "source": [
    "9.5 Dado el sistema de ecuaciones siguiente\n",
    "–1.1x1 + 10x2 = 120\n",
    "–2x1 + 17.4x2 = 174\n",
    " a)  Resuélvalo gráficamente y compruebe el resultado con la sustitución en las ecuaciones. \n",
    "b) Sobre la base de la solución gráfica, ¿qué se espera con respecto de la condición del sistema? \n",
    "c)  Calcule el determinante. \n",
    "d)  Resuelva por medio de la eliminación de incógnitas."
   ]
  },
  {
   "cell_type": "code",
   "execution_count": 4,
   "metadata": {
    "collapsed": false
   },
   "outputs": [
    {
     "name": "stdout",
     "output_type": "stream",
     "text": [
      "x2=(120+1.1*x1)/10\n",
      "0 0.0\n"
     ]
    },
    {
     "data": {
      "image/png": "[encoded data removed]",
      "text/plain": [
       "<matplotlib.figure.Figure at 0x1a3f5683390>"
      ]
     },
     "metadata": {},
     "output_type": "display_data"
    },
    {
     "name": "stdout",
     "output_type": "stream",
     "text": [
      "se comprueva los valore de x1=  404.6 x2=  56.5\n",
      "–1.1x1 + 10x2 = 119.93999999999994\n",
      "–2x1 + 17.4x2 = 173.89999999999986\n"
     ]
    }
   ],
   "source": [
    "# a)  Resuélvalo gráficamente y compruebe el resultado con la sustitución en las ecuaciones. \n",
    "\n",
    "\n",
    "#–1.1x1 + 10x2 = 120\n",
    "#–2x1 + 17.4x2 = 174\n",
    "from numpy import *\n",
    "import matplotlib.pyplot as plt\n",
    "%matplotlib inline\n",
    "x2=0;\n",
    "y2=0;\n",
    "x=[]\n",
    "z=[]\n",
    "y=[]\n",
    "p=[]\n",
    "i=300\n",
    "print(\"x2=(120+1.1*x1)/10\");\n",
    "for i in range (500):\n",
    "    x2=(120+1.1*i)/10\n",
    "    x.append(i)\n",
    "    y.append(x2)\n",
    "    #print(i,x2);\n",
    "#print(\"x2=(34-x1)/6\");\n",
    "print(0, 0.0)\n",
    "i=300\n",
    "for i in range(500):\n",
    "    x2=(174+2*i)/17.4\n",
    "    z.append(i)\n",
    "    p.append(x2)\n",
    "    #print(i,x2);\n",
    "plt.plot(x,y,'r',linewidth=2,label='x2=(120+1.1*x1)/10')\n",
    "plt.hold(True)\n",
    "plt.plot(z,p,'k--',linewidth=2,label='x2=(174+2*i)/17.4')\n",
    "plt.legend(loc = 2)\n",
    "plt.show()\n",
    "\n",
    "x1=404.6\n",
    "x2=56.5\n",
    "print(\"se comprueva los valore de x1= \",x1,\"x2= \",x2)\n",
    "print(\"–1.1x1 + 10x2 =\",-1.1*x1+10*x2);\n",
    "print(\"–2x1 + 17.4x2 =\",-2*x1+17.4*x2);"
   ]
  },
  {
   "cell_type": "markdown",
   "metadata": {
    "collapsed": true
   },
   "source": [
    "#b) Sobre la base de la solución gráfica, ¿qué se espera con respecto de la condición del sistema? \n",
    "se espera que la dos rectas respectivas e cada ecuacion no se vuelvan a interceptar"
   ]
  },
  {
   "cell_type": "code",
   "execution_count": 4,
   "metadata": {
    "collapsed": false
   },
   "outputs": [
    {
     "name": "stdout",
     "output_type": "stream",
     "text": [
      "0.86\n"
     ]
    }
   ],
   "source": [
    "#c)  Calcule el determinante. \n",
    "#–1.1x1 + 10x2 = 120\n",
    "#–2x1 + 17.4x2 = 174\n",
    "import numpy\n",
    "M = [[-1.1,10], [-2,17.4]]\n",
    "print (numpy.linalg.det(M))"
   ]
  },
  {
   "cell_type": "code",
   "execution_count": 5,
   "metadata": {
    "collapsed": false
   },
   "outputs": [
    {
     "name": "stdout",
     "output_type": "stream",
     "text": [
      "Valor de m:2\n",
      "Valor de n:2\n",
      "Introduce la matriz de coeficientes y el vector solución\n",
      "Elemento a[1,1]  -1.1\n",
      "Elemento a[1,2]  10\n",
      "b[1]120\n",
      "Elemento a[2,1]  -2\n",
      "Elemento a[2,2]  17.4\n",
      "b[2]174\n",
      "[[ -1.1  10. ]\n",
      " [ -2.   17.4]]\n",
      "56.511627907\n",
      "Resultado matriz\n",
      "[[ -1.1         10.        ]\n",
      " [  0.          -0.78181818]]\n",
      "Resultado del vector\n",
      "[ 120.          -44.18181818]\n",
      "Resultados de la forma x1+x2+x3: \n",
      "[ 404.65116279   56.51162791]\n"
     ]
    }
   ],
   "source": [
    "#d)  Resuelva por medio de la eliminación de incógnitas.\n",
    "\n",
    "\n",
    "import numpy\n",
    "m=int(input(\"Valor de m:\"))\n",
    "n=int(input(\"Valor de n:\"))\n",
    "matrix = numpy.zeros((m,n))\n",
    "vector= numpy.zeros((n))\n",
    "x=numpy.zeros((m))\n",
    "print( 'Introduce la matriz de coeficientes y el vector solución')\n",
    "for r in range(0,m):\n",
    "    for c in range(0,n):\n",
    "        \n",
    "        matrix[(r),(c)]=(input(\"Elemento a[\"+str(r+1)+\",\"+str(c+1)+\"]  \"))\n",
    "        \n",
    "    vector[(r)]=(input(\"b[\"+str(r+1)+\"]\"))\n",
    "             \n",
    "print (matrix)\n",
    "                 \n",
    "for k in range(0,m):\n",
    "    for r in range(k+1,m):\n",
    "        factor=(matrix[r,k]/matrix[k,k])\n",
    "        vector[r]=vector[r]-(factor*vector[k])\n",
    "        for c in range(0,n):\n",
    "            matrix[r,c]=matrix[r,c]-(factor*matrix[k,c])\n",
    "\n",
    "\n",
    "#sustitución hacia atrás\n",
    "x[m-1]=vector[m-1]/matrix[m-1,m-1]\n",
    "print (x[m-1])\n",
    "for r in range(m-2,-1,-1):\n",
    "    suma=0\n",
    "    for c in range(0,n):\n",
    "        suma=suma+matrix[r,c]*x[c]\n",
    "    x[r]=(vector[r]-suma)/matrix[r,r]\n",
    "print ('Resultado matriz')\n",
    "print(matrix)\n",
    "print ('Resultado del vector')\n",
    "print(vector)\n",
    "print ('Resultados de la forma x1+x2+x3: ')\n",
    "print(x)\n",
    "#–1.1x1 + 10x2 = 120\n",
    "#–2x1 + 17.4x2 = 174"
   ]
  },
  {
   "cell_type": "markdown",
   "metadata": {
    "collapsed": true
   },
   "source": [
    "9.6 Para el sistema de ecuaciones que sigue\n",
    "2x2 + 5x3 = 9 \n",
    "2x1 + x2 + x3 = 9 \n",
    "3x1 + x2 = 10\n",
    " a)  Calcule el determinante. \n",
    "b)  Use la regla de Cramer para encontrar cuál es el valor de las x. \n",
    "c)  Sustituya el resultado en las ecuaciones originales para efectos de comprobación."
   ]
  },
  {
   "cell_type": "code",
   "execution_count": 8,
   "metadata": {
    "collapsed": false
   },
   "outputs": [
    {
     "name": "stdout",
     "output_type": "stream",
     "text": [
      "a= \n",
      " [[0 2 5]\n",
      " [2 1 1]\n",
      " [3 1 0]]\n",
      "b*a= 1\n"
     ]
    }
   ],
   "source": [
    "#a)  Calcule el determinante.\n",
    "\n",
    "#2x2 + 5x3 = 9 \n",
    "#2x1 + x2 + x3 = 9 \n",
    "#3x1 + x2 = 10\n",
    "\n",
    "#a=[0,2,5,9],[2,1,1,9],[3,1,0,10]\n",
    "\n",
    "a=[0,2,5],[2,1,1],[3,1,0]\n",
    "\n",
    "a1=((a[1][1]*a[2][2])-(a[1][2]*a[2][1]))*a[0][0]\n",
    "a2=(a[1][0]*a[2][2]-a[1][2]*a[2][0])*a[0][1]\n",
    "a3=(a[1][0]*a[2][1]-a[1][1]*a[2][0])*a[0][2]\n",
    "\n",
    "determinante=a1-a2+a3\n",
    "\n",
    "print (\"a= \\n\", b)\n",
    "print (\"determinante=\",determinante)\n",
    "\n"
   ]
  },
  {
   "cell_type": "code",
   "execution_count": 5,
   "metadata": {
    "collapsed": false
   },
   "outputs": [
    {
     "name": "stdout",
     "output_type": "stream",
     "text": [
      "\n",
      "     |    9      2      5 |\n",
      "     |    9      1      1 |\n",
      "     |   10      1      0 |          6\n",
      "X1 = |--------------------| ==> ------- =   6.0\n",
      "                1                 1\n",
      "\n",
      "     |    0      9      5 |\n",
      "     |    2      9      1 |\n",
      "     |    3     10      0 |         -8\n",
      "X2 = |--------------------| ==> ------- =  -8.0\n",
      "                1                 1\n",
      "\n",
      "     |    0      2      9 |\n",
      "     |    2      1      9 |\n",
      "     |    3      1     10 |         5\n",
      "X3 = |--------------------| ==> ------- =   5.0\n",
      "                1                 1\n"
     ]
    }
   ],
   "source": [
    "#b)  Use la regla de Cramer para encontrar cuál es el valor de las x. \n",
    "\n",
    "#a=[0,2,5,9],[2,1,1,9],[3,1,0,10]\n",
    "\n",
    "#a=[0,2,5],[2,1,1],[3,1,0]\n",
    "\n",
    "a11,a12,a13,b1=0,2,5,9\n",
    "a21,a22,a23,b2=2,1,1,9\n",
    "a31,a32,a33,b3=3,1,0,10\n",
    "X=[]\n",
    "\n",
    "\n",
    "A1,A2,A3=round(a22*a33-a32*a23,2),round(a21*a33-a31*a23,2),round(a21*a32-a31*a22,2)\n",
    "X11,X12,X13=round(a22*a33-a32*a23,4),round(b2*a33-b3*a23,4),round(b2*a32-b3*a22,4)\n",
    "X21,X22,X23=round(b2*a33-b3*a23,4),round(a21*a33-a31*a23,4),round(a21*b3-a31*b2,4)\n",
    "X31,X32,X33=round(a22*b3-a32*b2,4),round(a21*b3-a31*b2,4),round(a21*a32-a31*a22,4)\n",
    "Determinante=round(a11*A1-a12*A2+a13*A3,4)\n",
    "DeterminanteX1=round(b1*X11-a12*X12+a13*X13,6)\n",
    "DeterminanteX2=round(a11*X21-b1*X22+a13*X23,6)\n",
    "DeterminanteX3=round(a11*X31-a12*X32+b1*X33,6)\n",
    "\n",
    "\n",
    "print (\"\\n{0:5}|{1:5}  {2:5}  {3:5} |\".format(\"\",b1,a12,a13));\n",
    "print (\"{0:5}|{1:5}  {2:5}  {3:5} |\".format(\"\",b2,a22,a23));\n",
    "print (\"{0:5}|{1:5}  {2:5}  {3:5} |      {4:5}\".format(\"\",b3,a32,a33,DeterminanteX1));\n",
    "print (\"{0:5}|{1:5}| ==> {2:5} = {3:5}\".format(\"X1 =\",\"--------------------\",\"-------\",round(DeterminanteX1/Determinante,2)));\n",
    "print (\"{0:5} {1:5} {2:5}             {3:5}\".format(\"\",\"\",Determinante,Determinante));\n",
    "\n",
    "print (\"\\n{0:5}|{1:5}  {2:5}  {3:5} |\".format(\"\",a11,b1,a13));\n",
    "print (\"{0:5}|{1:5}  {2:5}  {3:5} |\".format(\"\",a21,b2,a23));\n",
    "print (\"{0:5}|{1:5}  {2:5}  {3:5} |      {4:5}\".format(\"\",a31,b3,a33,DeterminanteX2));\n",
    "print (\"{0:5}|{1:5}| ==> {2:5} = {3:5}\".format(\"X2 =\",\"--------------------\",\"-------\",round(DeterminanteX2/Determinante,2)));\n",
    "print (\"{0:5} {1:5} {2:5}             {3:5}\".format(\"\",\"\",Determinante,Determinante));\n",
    "\n",
    "print (\"\\n{0:5}|{1:5}  {2:5}  {3:5} |\".format(\"\",a11,a12,b1));\n",
    "print (\"{0:5}|{1:5}  {2:5}  {3:5} |\".format(\"\",a21,a22,b2));\n",
    "print (\"{0:5}|{1:5}  {2:5}  {3:5} |     {4:5}\".format(\"\",a31,a32,b3,DeterminanteX3));\n",
    "print (\"{0:5}|{1:5}| ==> {2:5} = {3:5}\".format(\"X3 =\",\"--------------------\",\"-------\",round(DeterminanteX3/Determinante,2)));\n",
    "print (\"{0:5} {1:5} {2:5}             {3:5}\".format(\"\",\"\",Determinante,Determinante));\n"
   ]
  },
  {
   "cell_type": "code",
   "execution_count": 12,
   "metadata": {
    "collapsed": false
   },
   "outputs": [
    {
     "name": "stdout",
     "output_type": "stream",
     "text": [
      "2x2 + 5x3 = 9\n",
      "2x1 + x2 + x3 = 9\n",
      "3x1 + x2 = 10\n"
     ]
    }
   ],
   "source": [
    "#c)  Sustituya el resultado en las ecuaciones originales para efectos de comprobación.\n",
    "#2x2 + 5x3 = 9 \n",
    "#2x1 + x2 + x3 = 9 \n",
    "#3x1 + x2 = 10\n",
    "x1=6\n",
    "x2=-8\n",
    "x3=5\n",
    "\n",
    "\n",
    "print(\"2x2 + 5x3 =\",2*x2+5*x3)\n",
    "print(\"2x1 + x2 + x3 =\",2*x1+x2+x3)\n",
    "print(\"3x1 + x2 =\",3*x1+x2)\n",
    "\n"
   ]
  },
  {
   "cell_type": "markdown",
   "metadata": {
    "collapsed": true
   },
   "source": [
    "9.7 Dadas las ecuaciones\n",
    "0.5x1 – x2 = –9.5 \n",
    "1.02x1 – 2x2 = –18.8\n",
    "a)  Resuelva en forma gráfica. \n",
    "b)  Calcule el determinante. \n",
    "c)  Con base en los incisos a) y b), ¿qué es de esperarse con respecto de la condición del sistema? \n",
    "d)  Resuelva por medio de la eliminación de incógnitas. \n",
    "e)  Resuelva otra vez, pero modifique ligeramente el elemento a11 a 0.52. Interprete sus resultados."
   ]
  },
  {
   "cell_type": "code",
   "execution_count": 6,
   "metadata": {
    "collapsed": false
   },
   "outputs": [
    {
     "name": "stdout",
     "output_type": "stream",
     "text": [
      "x2=-(-9.5+0.5*x1)\n",
      "x2=-(-18.8-1.02*x1)/2\n"
     ]
    },
    {
     "data": {
      "image/png": "[encoded data removed]",
      "text/plain": [
       "<matplotlib.figure.Figure at 0x1a3f5c78dd8>"
      ]
     },
     "metadata": {},
     "output_type": "display_data"
    },
    {
     "name": "stdout",
     "output_type": "stream",
     "text": [
      "se comprueva los valore de x1=  0.0988 x2=  9.45\n",
      "0.5x1 – x2 =   -9.400599999999999\n",
      "1.02x1 – 2x2 = -18.799224\n"
     ]
    }
   ],
   "source": [
    "#a)  Resuelva en forma gráfica. \n",
    "\n",
    "#0.5x1 – x2 = –9.5 \n",
    "#x2=-(-9.5+0.5*x1)\n",
    "#1.02x1 – 2x2 = –18.8\n",
    "#x2=-(-18.8-1.02*x1)/2\n",
    "\n",
    "from numpy import *\n",
    "import matplotlib.pyplot as plt\n",
    "%matplotlib inline\n",
    "x2=0;\n",
    "y2=0;\n",
    "x=[]\n",
    "z=[]\n",
    "y=[]\n",
    "p=[]\n",
    "print(\"x2=-(-9.5+0.5*x1)\");\n",
    "for i in range (2):\n",
    "    x2=-(-9.5+0.5*i)\n",
    "    x.append(i)\n",
    "    y.append(x2)\n",
    "    #print(i,x2);\n",
    "print(\"x2=-(-18.8-1.02*x1)/2\");\n",
    "#print(0, 0.0)\n",
    "for i in range(2):\n",
    "    x2=-(-18.8-1.02*i)/2\n",
    "    z.append(i)\n",
    "    p.append(x2)\n",
    "    #print(i,x2);\n",
    "plt.plot(x,y,'r',linewidth=2,label='x2=(-24-4x1)/-8')\n",
    "plt.hold(True)\n",
    "plt.plot(z,p,'k--',linewidth=2,label='x2=(34-x1)/6')\n",
    "plt.legend(loc = 2)\n",
    "plt.show()\n",
    "\n",
    "x1=0.0988\n",
    "x2=9.45\n",
    "print(\"se comprueva los valore de x1= \",x1,\"x2= \",x2)\n",
    "print(\"0.5x1 – x2 =  \",0.5*x1-x2);\n",
    "print(\"1.02x1 – 2x2 =\",1.02*x1-2*x2);\n"
   ]
  },
  {
   "cell_type": "code",
   "execution_count": 20,
   "metadata": {
    "collapsed": false
   },
   "outputs": [
    {
     "name": "stdout",
     "output_type": "stream",
     "text": [
      "a= \n",
      " [[0 2 5]\n",
      " [2 1 1]\n",
      " [3 1 0]]\n",
      "determinante= 0.020000000000000018\n"
     ]
    }
   ],
   "source": [
    "#b)  Calcule el determinante.\n",
    "\n",
    "#0.5x1 – x2 = –9.5 \n",
    "#1.02x1 – 2x2 = –18.8\n",
    "\n",
    "\n",
    "#a=[0.5,-1,-9.5],[1.02,-2,-18.8]\n",
    "\n",
    "a=[0.5,-1],[1.02,-2]\n",
    "\n",
    "a1=((a[0][0]*a[1][1])-(a[0][1]*a[1][0]))\n",
    "\n",
    "\n",
    "\n",
    "determinante=a1\n",
    "\n",
    "print (\"a= \\n\", b)\n",
    "print (\"determinante=\",determinante)\n",
    "\n"
   ]
  },
  {
   "cell_type": "markdown",
   "metadata": {
    "collapsed": true
   },
   "source": [
    "#c)  Con base en los incisos a) y b), ¿qué es de esperarse con respecto de la condición del sistema? \n",
    "se espera que x2 tienda mas rapido al infinito que x1\n"
   ]
  },
  {
   "cell_type": "code",
   "execution_count": 4,
   "metadata": {
    "collapsed": false
   },
   "outputs": [
    {
     "name": "stdout",
     "output_type": "stream",
     "text": [
      "Valor de m:2\n",
      "Valor de n:2\n",
      "Introduce la matriz de coeficientes y el vector solución\n",
      "Elemento a[1,1]  0.5\n",
      "Elemento a[1,2]  -1\n",
      "b[1]-9.5\n",
      "Elemento a[2,1]  1.02\n",
      "Elemento a[2,2]  -2\n",
      "b[2]-18.8\n",
      "[[ 0.5  -1.  ]\n",
      " [ 1.02 -2.  ]]\n",
      "14.5\n",
      "Resultado matriz\n",
      "[[ 0.5  -1.  ]\n",
      " [ 0.    0.04]]\n",
      "Resultado del vector\n",
      "[-9.5   0.58]\n",
      "Resultados de la forma x1+x2+x3: \n",
      "[ 10.   14.5]\n"
     ]
    }
   ],
   "source": [
    "#d)  Resuelva por medio de la eliminación de incógnitas. \n",
    "\n",
    "import numpy\n",
    "m=int(input(\"Valor de m:\"))\n",
    "n=int(input(\"Valor de n:\"))\n",
    "matrix = numpy.zeros((m,n))\n",
    "vector= numpy.zeros((n))\n",
    "x=numpy.zeros((m))\n",
    "print( 'Introduce la matriz de coeficientes y el vector solución')\n",
    "for r in range(0,m):\n",
    "    for c in range(0,n):\n",
    "        \n",
    "        matrix[(r),(c)]=(input(\"Elemento a[\"+str(r+1)+\",\"+str(c+1)+\"]  \"))\n",
    "        \n",
    "    vector[(r)]=(input(\"b[\"+str(r+1)+\"]\"))\n",
    "             \n",
    "print (matrix)\n",
    "                 \n",
    "for k in range(0,m):\n",
    "    for r in range(k+1,m):\n",
    "        factor=(matrix[r,k]/matrix[k,k])\n",
    "        vector[r]=vector[r]-(factor*vector[k])\n",
    "        for c in range(0,n):\n",
    "            matrix[r,c]=matrix[r,c]-(factor*matrix[k,c])\n",
    "\n",
    "\n",
    "#sustitución hacia atrás\n",
    "x[m-1]=vector[m-1]/matrix[m-1,m-1]\n",
    "print (x[m-1])\n",
    "for r in range(m-2,-1,-1):\n",
    "    suma=0\n",
    "    for c in range(0,n):\n",
    "        suma=suma+matrix[r,c]*x[c]\n",
    "    x[r]=(vector[r]-suma)/matrix[r,r]\n",
    "print ('Resultado matriz')\n",
    "print(matrix)\n",
    "print ('Resultado del vector')\n",
    "print(vector)\n",
    "print ('Resultados de la forma x1+x2+x3: ')\n",
    "print(x)\n",
    "\n",
    "#0.5x1 – x2 = –9.5 \n",
    "#1.02x1 – 2x2 = –18.8"
   ]
  },
  {
   "cell_type": "code",
   "execution_count": 3,
   "metadata": {
    "collapsed": false
   },
   "outputs": [
    {
     "name": "stdout",
     "output_type": "stream",
     "text": [
      "Valor de m:2\n",
      "Valor de n:2\n",
      "Introduce la matriz de coeficientes y el vector solución\n",
      "Elemento a[1,1]  0.52\n",
      "Elemento a[1,2]  -1\n",
      "b[1]-9.5\n",
      "Elemento a[2,1]  1.02\n",
      "Elemento a[2,2]  -2\n",
      "b[2]-18.8\n",
      "[[ 0.52 -1.  ]\n",
      " [ 1.02 -2.  ]]\n",
      "4.3\n",
      "Resultado matriz\n",
      "[[ 0.52       -1.        ]\n",
      " [ 0.         -0.03846154]]\n",
      "Resultado del vector\n",
      "[-9.5        -0.16538462]\n",
      "Resultados de la forma x1+x2+x3: \n",
      "[-10.   4.3]\n"
     ]
    }
   ],
   "source": [
    "#e)  Resuelva otra vez, pero modifique ligeramente el elemento a11 a 0.52. Interprete sus resultados.\n",
    "import numpy\n",
    "m=int(input(\"Valor de m:\"))\n",
    "n=int(input(\"Valor de n:\"))\n",
    "matrix = numpy.zeros((m,n))\n",
    "vector= numpy.zeros((n))\n",
    "x=numpy.zeros((m))\n",
    "print( 'Introduce la matriz de coeficientes y el vector solución')\n",
    "for r in range(0,m):\n",
    "    for c in range(0,n):\n",
    "        \n",
    "        matrix[(r),(c)]=(input(\"Elemento a[\"+str(r+1)+\",\"+str(c+1)+\"]  \"))\n",
    "        \n",
    "    vector[(r)]=(input(\"b[\"+str(r+1)+\"]\"))\n",
    "             \n",
    "print (matrix)\n",
    "                 \n",
    "for k in range(0,m):\n",
    "    for r in range(k+1,m):\n",
    "        factor=(matrix[r,k]/matrix[k,k])\n",
    "        vector[r]=vector[r]-(factor*vector[k])\n",
    "        for c in range(0,n):\n",
    "            matrix[r,c]=matrix[r,c]-(factor*matrix[k,c])\n",
    "\n",
    "\n",
    "#sustitución hacia atrás\n",
    "x[m-1]=vector[m-1]/matrix[m-1,m-1]\n",
    "print (x[m-1])\n",
    "for r in range(m-2,-1,-1):\n",
    "    suma=0\n",
    "    for c in range(0,n):\n",
    "        suma=suma+matrix[r,c]*x[c]\n",
    "    x[r]=(vector[r]-suma)/matrix[r,r]\n",
    "print ('Resultado matriz')\n",
    "print(matrix)\n",
    "print ('Resultado del vector')\n",
    "print(vector)\n",
    "print ('Resultados de la forma x1+x2+x3: ')\n",
    "print(x)\n",
    "\n",
    "#0.52x1 – x2 = –9.5 \n",
    "#1.02x1 – 2x2 = –18.8"
   ]
  },
  {
   "cell_type": "markdown",
   "metadata": {
    "collapsed": true
   },
   "source": [
    "9.8 Dadas las ecuaciones siguientes\n",
    "10x1 + 2x2 – x3 = 27 \n",
    "–3x1 – 6x2 + 2x3 = –61.5 \n",
    "x1 + x2 + 5x3 = –21.5\n",
    " a)  Resuelva por eliminación de Gauss simple. Efectúe todos los pasos del cálculo. \n",
    "b)  Sustituya los resultados en las ecuaciones originales a fin de comprobar sus respuestas."
   ]
  },
  {
   "cell_type": "code",
   "execution_count": 5,
   "metadata": {
    "collapsed": false
   },
   "outputs": [
    {
     "name": "stdout",
     "output_type": "stream",
     "text": [
      "Valor de m:3\n",
      "Valor de n:3\n",
      "Introduce la matriz de coeficientes y el vector solución\n",
      "Elemento a[1,1]  10\n",
      "Elemento a[1,2]  2\n",
      "Elemento a[1,3]  -1\n",
      "b[1]27\n",
      "Elemento a[2,1]  -3\n",
      "Elemento a[2,2]  -6\n",
      "Elemento a[2,3]  2\n",
      "b[2]-61.5\n",
      "Elemento a[3,1]  1\n",
      "Elemento a[3,2]  1\n",
      "Elemento a[3,3]  5\n",
      "b[3]-21.5\n",
      "[[ 10.   2.  -1.]\n",
      " [ -3.  -6.   2.]\n",
      " [  1.   1.   5.]]\n",
      "-6.0\n",
      "Resultado matriz\n",
      "[[ 10.           2.          -1.        ]\n",
      " [  0.          -5.4          1.7       ]\n",
      " [  0.           0.           5.35185185]]\n",
      "Resultado del vector\n",
      "[ 27.         -53.4        -32.11111111]\n",
      "Resultados de la forma x1+x2+x3: \n",
      "[ 0.5  8.  -6. ]\n"
     ]
    }
   ],
   "source": [
    "\n",
    "# a)  Resuelva por eliminación de Gauss simple. Efectúe todos los pasos del cálculo. \n",
    "import numpy\n",
    "m=int(input(\"Valor de m:\"))\n",
    "n=int(input(\"Valor de n:\"))\n",
    "matrix = numpy.zeros((m,n))\n",
    "vector= numpy.zeros((n))\n",
    "x=numpy.zeros((m))\n",
    "print( 'Introduce la matriz de coeficientes y el vector solución')\n",
    "for r in range(0,m):\n",
    "    for c in range(0,n):\n",
    "        \n",
    "        matrix[(r),(c)]=(input(\"Elemento a[\"+str(r+1)+\",\"+str(c+1)+\"]  \"))\n",
    "        \n",
    "    vector[(r)]=(input(\"b[\"+str(r+1)+\"]\"))\n",
    "             \n",
    "print (matrix)\n",
    "                 \n",
    "for k in range(0,m):\n",
    "    for r in range(k+1,m):\n",
    "        factor=(matrix[r,k]/matrix[k,k])\n",
    "        vector[r]=vector[r]-(factor*vector[k])\n",
    "        for c in range(0,n):\n",
    "            matrix[r,c]=matrix[r,c]-(factor*matrix[k,c])\n",
    "\n",
    "\n",
    "#sustitución hacia atrás\n",
    "x[m-1]=vector[m-1]/matrix[m-1,m-1]\n",
    "print (x[m-1])\n",
    "for r in range(m-2,-1,-1):\n",
    "    suma=0\n",
    "    for c in range(0,n):\n",
    "        suma=suma+matrix[r,c]*x[c]\n",
    "    x[r]=(vector[r]-suma)/matrix[r,r]\n",
    "print ('Resultado matriz')\n",
    "print(matrix)\n",
    "print ('Resultado del vector')\n",
    "print(vector)\n",
    "print ('Resultados de la forma x1+x2+x3: ')\n",
    "print(x)\n",
    "#10x1 + 2x2 – x3 = 27 \n",
    "#–3x1 – 6x2 + 2x3 = –61.5 \n",
    "#x1 + x2 + 5x3 = –21.5"
   ]
  },
  {
   "cell_type": "code",
   "execution_count": 6,
   "metadata": {
    "collapsed": false
   },
   "outputs": [
    {
     "name": "stdout",
     "output_type": "stream",
     "text": [
      "10x1 + 2x2 – x3 = 27.0\n",
      "–3x1 – 6x2 + 2x3 = -61.5\n",
      "x1 + x2 + 5x3 = -21.5\n"
     ]
    }
   ],
   "source": [
    "#10x1 + 2x2 – x3 = 27 \n",
    "#–3x1 – 6x2 + 2x3 = –61.5 \n",
    "#x1 + x2 + 5x3 = –21.5 \n",
    "#b)  Sustituya los resultados en las ecuaciones originales a fin de comprobar sus respuestas.\n",
    "x1=0.5\n",
    "x2=8\n",
    "x3=-6\n",
    "print(\"10x1 + 2x2 – x3 =\",10*x1 + 2*x2 - x3)\n",
    "print(\"–3x1 – 6x2 + 2x3 =\",-3*x1 - 6*x2 + 2*x3 )\n",
    "print(\"x1 + x2 + 5x3 =\",x1 + x2 + 5*x3 )"
   ]
  },
  {
   "cell_type": "code",
   "execution_count": null,
   "metadata": {
    "collapsed": true
   },
   "outputs": [],
   "source": []
  }
 ],
 "metadata": {
  "kernelspec": {
   "display_name": "Python 3",
   "language": "python",
   "name": "python3"
  },
  "language_info": {
   "codemirror_mode": {
    "name": "ipython",
    "version": 3
   },
   "file_extension": ".py",
   "mimetype": "text/x-python",
   "name": "python",
   "nbconvert_exporter": "python",
   "pygments_lexer": "ipython3",
   "version": "3.5.1"
  }
 },
 "nbformat": 4,
 "nbformat_minor": 0
}
