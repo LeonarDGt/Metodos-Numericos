{
 "cells": [
  {
   "cell_type": "code",
   "execution_count": 3,
   "metadata": {
    "collapsed": false
   },
   "outputs": [
    {
     "name": "stdout",
     "output_type": "stream",
     "text": [
      "Iteracion   Valor Secante Modificada\n",
      "\n",
      "         0 |   0.5372626655366407\n",
      "         1 |   0.5670349866351645\n",
      "         2 |   0.5671434839718879\n",
      "         3 |    0.567143290060064\n",
      "         4 |   0.5671432904104158\n",
      "         5 |   0.5671432904097827\n",
      "         6 |   0.5671432904097838\n",
      "         7 |   0.5671432904097838  => Esta es la raiz  \n"
     ]
    }
   ],
   "source": [
    "import math\n",
    "i=0\n",
    "xf=0\n",
    "xo=1\n",
    "d=0.01\n",
    "xf0=math.exp(-xo)-xo\n",
    "xfd=math.exp(-(xo+d))-(xo+d)\n",
    "print (\"{0:10}  {1:15}\".format(\"Iteracion\",\"Valor Secante Modificada\\n\"));\n",
    "while True:\n",
    "    xf=xo-(d*(xf0))/(xfd-xf0)\n",
    "    if xf==xo:\n",
    "        print (\"{0:10} | {1:20}  {2:20}\".format(i,xf,\"=> Esta es la raiz\"));\n",
    "        break\n",
    "    \n",
    "    xo=xf\n",
    "    xf0=math.exp(-xo)-xo\n",
    "    xfd=math.exp(-(xo+d))-(xo+d)\n",
    "    print (\"{0:10} | {1:20}\".format(i,xf));\n",
    "    if i==100:\n",
    "        break\n",
    "    i=i+1"
   ]
  }
 ],
 "metadata": {
  "kernelspec": {
   "display_name": "Python 3",
   "language": "python",
   "name": "python3"
  },
  "language_info": {
   "codemirror_mode": {
    "name": "ipython",
    "version": 3
   },
   "file_extension": ".py",
   "mimetype": "text/x-python",
   "name": "python",
   "nbconvert_exporter": "python",
   "pygments_lexer": "ipython3",
   "version": "3.5.1"
  }
 },
 "nbformat": 4,
 "nbformat_minor": 0
}
